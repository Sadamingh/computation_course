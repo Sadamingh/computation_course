{
 "cells": [
  {
   "cell_type": "markdown",
   "metadata": {
    "slideshow": {
     "slide_type": "skip"
    },
    "toc": true
   },
   "source": [
    "<h1>Table of Contents<span class=\"tocSkip\"></span></h1>\n",
    "<div class=\"toc\"><ul class=\"toc-item\"><li><span><a href=\"#Control-Flow-with-Conditionals\" data-toc-modified-id=\"Control-Flow-with-Conditionals-1\">Control Flow with Conditionals</a></span></li><li><span><a href=\"#Learning-Outcomes\" data-toc-modified-id=\"Learning-Outcomes-2\">Learning Outcomes</a></span></li><li><span><a href=\"#How-Python-works\" data-toc-modified-id=\"How-Python-works-3\">How Python works</a></span></li><li><span><a href=\"#Conditional-execution\" data-toc-modified-id=\"Conditional-execution-4\">Conditional execution</a></span></li><li><span><a href=\"#elif\" data-toc-modified-id=\"elif-5\">elif</a></span></li><li><span><a href=\"#else-\" data-toc-modified-id=\"else--6\">else </a></span></li><li><span><a href=\"#Use-Boolean-Function-as-conditional\" data-toc-modified-id=\"Use-Boolean-Function-as-conditional-7\">Use Boolean Function as conditional</a></span></li><li><span><a href=\"#Using-Truthiness-in-Conditionals\" data-toc-modified-id=\"Using-Truthiness-in-Conditionals-8\">Using Truthiness in Conditionals</a></span></li><li><span><a href=\"#Check-for-understanding\" data-toc-modified-id=\"Check-for-understanding-9\">Check for understanding</a></span></li><li><span><a href=\"#Bonus-Material\" data-toc-modified-id=\"Bonus-Material-10\">Bonus Material</a></span></li></ul></div>"
   ]
  },
  {
   "cell_type": "markdown",
   "metadata": {
    "slideshow": {
     "slide_type": "slide"
    }
   },
   "source": [
    "<center><h2>Control Flow with Conditionals</h2></center>\n",
    "\n",
    "<center><img src=\"../images/flow_chart.jpeg\" width=\"75%\"/></center>"
   ]
  },
  {
   "cell_type": "markdown",
   "metadata": {
    "slideshow": {
     "slide_type": "slide"
    }
   },
   "source": [
    "<center><h2>Learning Outcomes</h2></center>\n",
    "\n",
    "__By the end of this session, you should be able to__:\n",
    "\n",
    "- Control the flow of a program with `if`, `elif`, and `else` statements\n",
    "- Explain how boolean logic is used in the control statements\n",
    "- Write control statements with boolean functions and using _truthiness_\n"
   ]
  },
  {
   "cell_type": "markdown",
   "metadata": {
    "slideshow": {
     "slide_type": "slide"
    }
   },
   "source": [
    "<center><h2>How Python works</h2></center>\n",
    "\n",
    "More about a Notional Machine for Python …\n",
    "\n",
    "Python is interpreted line-by-line.\n",
    "\n",
    "Unless given instructions to the contrary, the processor keeps executing instructions one after the other."
   ]
  },
  {
   "cell_type": "markdown",
   "metadata": {
    "slideshow": {
     "slide_type": "slide"
    }
   },
   "source": [
    "<center><h2>Conditional execution</h2></center> \n",
    " \n",
    "`if` statement is the simplest way to control the flow of your Python program\n",
    "An `if` statement allows us to check whether or not a certain condition is true. \n",
    "If a condition is true, perform series of commands related to that context.\n",
    "\n",
    "```\n",
    "if <boolean expression>:\n",
    "     <code that executes only if above expression is true>\n",
    "```"
   ]
  },
  {
   "cell_type": "markdown",
   "metadata": {
    "slideshow": {
     "slide_type": "slide"
    }
   },
   "source": [
    "elif\n",
    "---\n",
    "\n",
    "- elif is short for elseif\n",
    "- add as many as you want"
   ]
  },
  {
   "cell_type": "markdown",
   "metadata": {
    "slideshow": {
     "slide_type": "slide"
    }
   },
   "source": [
    "else \n",
    "-----\n",
    "\n",
    "- else is optional \n",
    "\n",
    "- Always at end\n",
    "\n"
   ]
  },
  {
   "cell_type": "markdown",
   "metadata": {},
   "source": [
    "Use Boolean Function as conditional\n",
    "-----"
   ]
  },
  {
   "cell_type": "code",
   "execution_count": 2,
   "metadata": {},
   "outputs": [],
   "source": [
    "def is_even(n:int) -> bool:\n",
    "    return True if n % 2 == 0 else False"
   ]
  },
  {
   "cell_type": "code",
   "execution_count": 6,
   "metadata": {},
   "outputs": [
    {
     "name": "stdout",
     "output_type": "stream",
     "text": [
      "1 is odd.\n",
      "2 is even.\n",
      "3 is odd.\n",
      "4 is even.\n",
      "5 is odd.\n",
      "6 is even.\n",
      "7 is odd.\n",
      "8 is even.\n",
      "9 is odd.\n"
     ]
    }
   ],
   "source": [
    "for n in range(1, 10):\n",
    "\n",
    "    if is_even(n):\n",
    "        print(n, \"is even.\")\n",
    "    else:\n",
    "        print(n, \"is odd.\")"
   ]
  },
  {
   "cell_type": "markdown",
   "metadata": {},
   "source": [
    "Using Truthiness in Conditionals\n",
    "-----\n",
    "\n",
    "True and non-empty containers are True.\n",
    "\n",
    "None and empty containers are False."
   ]
  },
  {
   "cell_type": "code",
   "execution_count": 8,
   "metadata": {
    "slideshow": {
     "slide_type": "slide"
    }
   },
   "outputs": [
    {
     "name": "stdout",
     "output_type": "stream",
     "text": [
      "This is the Pythonic way.\n"
     ]
    }
   ],
   "source": [
    "condition = True\n",
    "# condition = ['a', 'b', 'c']\n",
    "# codition = \"any non-empty string\"\n",
    "\n",
    "if condition:\n",
    "    print(\"This is the Pythonic way.\")"
   ]
  },
  {
   "cell_type": "code",
   "execution_count": 9,
   "metadata": {
    "slideshow": {
     "slide_type": "slide"
    }
   },
   "outputs": [
    {
     "name": "stdout",
     "output_type": "stream",
     "text": [
      "Statement is false\n"
     ]
    }
   ],
   "source": [
    "condition = False\n",
    "# condition = None\n",
    "# condition = ''\n",
    "# condition = []\n",
    "\n",
    "if not condition:\n",
    "    print(\"Statement is false\") "
   ]
  },
  {
   "cell_type": "markdown",
   "metadata": {
    "slideshow": {
     "slide_type": "slide"
    }
   },
   "source": [
    "[Source](https://docs.quantifiedcode.com/python-anti-patterns/readability/comparison_to_true.html)"
   ]
  },
  {
   "cell_type": "markdown",
   "metadata": {
    "slideshow": {
     "slide_type": "slide"
    }
   },
   "source": [
    "<center><h2>Check for understanding</h2></center>\n",
    "\n",
    "True or False - A list that only contains a False."
   ]
  },
  {
   "cell_type": "code",
   "execution_count": null,
   "metadata": {},
   "outputs": [],
   "source": [
    "# True or False?\n",
    "# bool([False]) "
   ]
  },
  {
   "cell_type": "markdown",
   "metadata": {},
   "source": [
    "Bonus Material\n",
    "----"
   ]
  },
  {
   "cell_type": "markdown",
   "metadata": {
    "slideshow": {
     "slide_type": "slide"
    }
   },
   "source": [
    "<center><img src=\"https://imgs.xkcd.com/comics/flow_charts.png\" width=\"75%\"/></center>"
   ]
  },
  {
   "cell_type": "markdown",
   "metadata": {
    "slideshow": {
     "slide_type": "slide"
    }
   },
   "source": [
    " "
   ]
  }
 ],
 "metadata": {
  "celltoolbar": "Slideshow",
  "kernelspec": {
   "display_name": "Python 3",
   "language": "python",
   "name": "python3"
  },
  "language_info": {
   "codemirror_mode": {
    "name": "ipython",
    "version": 3
   },
   "file_extension": ".py",
   "mimetype": "text/x-python",
   "name": "python",
   "nbconvert_exporter": "python",
   "pygments_lexer": "ipython3",
   "version": "3.8.3"
  },
  "toc": {
   "base_numbering": 1,
   "nav_menu": {},
   "number_sections": false,
   "sideBar": false,
   "skip_h1_title": false,
   "title_cell": "Table of Contents",
   "title_sidebar": "Contents",
   "toc_cell": true,
   "toc_position": {},
   "toc_section_display": true,
   "toc_window_display": false
  }
 },
 "nbformat": 4,
 "nbformat_minor": 2
}
