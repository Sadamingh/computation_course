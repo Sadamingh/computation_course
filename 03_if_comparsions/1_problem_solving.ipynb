{
 "cells": [
  {
   "cell_type": "markdown",
   "metadata": {
    "slideshow": {
     "slide_type": "skip"
    },
    "toc": true
   },
   "source": [
    "<h1>Table of Contents<span class=\"tocSkip\"></span></h1>\n",
    "<div class=\"toc\"><ul class=\"toc-item\"><li><span><a href=\"#A-Handy-Guide-to-Problem-Solving\" data-toc-modified-id=\"A-Handy-Guide-to-Problem-Solving-1\">A Handy Guide to Problem Solving</a></span></li><li><span><a href=\"#Brian's-Approach-to-Programming\" data-toc-modified-id=\"Brian's-Approach-to-Programming-2\">Brian's Approach to Programming</a></span></li><li><span><a href=\"#Sample-Problem\" data-toc-modified-id=\"Sample-Problem-3\">Sample Problem</a></span></li><li><span><a href=\"#1.-Ask\" data-toc-modified-id=\"1.-Ask-4\">1. Ask</a></span></li><li><span><a href=\"#2.-Understand-\" data-toc-modified-id=\"2.-Understand--5\">2. Understand </a></span></li><li><span><a href=\"#3.-Plan\" data-toc-modified-id=\"3.-Plan-6\">3. Plan</a></span></li><li><span><a href=\"#4.-Solve\" data-toc-modified-id=\"4.-Solve-7\">4. Solve</a></span></li><li><span><a href=\"#5.-Confirm\" data-toc-modified-id=\"5.-Confirm-8\">5. Confirm</a></span></li><li><span><a href=\"#6.-Improve\" data-toc-modified-id=\"6.-Improve-9\">6. Improve</a></span></li><li><span><a href=\"#Bonus-Material\" data-toc-modified-id=\"Bonus-Material-10\">Bonus Material</a></span></li><li><span><a href=\"#&quot;Make-it-work,-make-it-right,-make-it-fast&quot;\" data-toc-modified-id=\"&quot;Make-it-work,-make-it-right,-make-it-fast&quot;-11\">\"Make it work, make it right, make it fast\"</a></span></li><li><span><a href=\"#Different-techniques-for-understanding-a-problem\" data-toc-modified-id=\"Different-techniques-for-understanding-a-problem-12\">Different techniques for understanding a problem</a></span></li></ul></div>"
   ]
  },
  {
   "cell_type": "markdown",
   "metadata": {
    "slideshow": {
     "slide_type": "slide"
    }
   },
   "source": [
    "<center><h2>A Handy Guide to Problem Solving</h2></center>"
   ]
  },
  {
   "cell_type": "markdown",
   "metadata": {
    "slideshow": {
     "slide_type": "fragment"
    }
   },
   "source": [
    "<center><img src=\"../images/working.jpg\" width=\"54%\"/></center>"
   ]
  },
  {
   "cell_type": "markdown",
   "metadata": {
    "slideshow": {
     "slide_type": "slide"
    }
   },
   "source": [
    "<center><big><big><big>Computer Science is a thinking class, <br>not a typing class.</big></big></big></center>\n"
   ]
  },
  {
   "cell_type": "markdown",
   "metadata": {
    "slideshow": {
     "slide_type": "slide"
    }
   },
   "source": [
    "<center><h2>Brian's Approach to Programming</h2></center>\n",
    "\n",
    "A-UPS-CI:\n",
    "\n",
    "1. Ask\n",
    "1. Understand\n",
    "1. Plan\n",
    "1. Solve \n",
    "1. Confirm\n",
    "1. Improve\n",
    "\n",
    "\n",
    "This approach works well for this course. It can help during coding interviews for jobs and on the job. It can help with math and stats problems. \n",
    "\n",
    "It can every help you change a flat tire!"
   ]
  },
  {
   "cell_type": "markdown",
   "metadata": {
    "slideshow": {
     "slide_type": "slide"
    }
   },
   "source": [
    "<center><h2>Sample Problem</h2></center>\n",
    "<br>\n",
    "<br>\n",
    "<br>\n",
    "<center>Write a function that calculates the mean for a group of numbers.</center>"
   ]
  },
  {
   "cell_type": "markdown",
   "metadata": {
    "slideshow": {
     "slide_type": "slide"
    }
   },
   "source": [
    "<center><h2>1. Ask</h2></center>\n",
    "\n",
    "__ALWAYS__ ask follow-up questions. \n",
    "\n",
    "Almost all technical questions are underspecified. \n",
    "\n",
    "It shows you are curious and don't make assumptions.\n",
    "\n",
    "What do you mean by numbers? group? mean?"
   ]
  },
  {
   "cell_type": "markdown",
   "metadata": {
    "slideshow": {
     "slide_type": "fragment"
    }
   },
   "source": [
    "Do you mean the arithmetic mean?\n",
    "\n",
    "$$ mean = \\frac{1}{n} \\sum_{i}^n a_i$$"
   ]
  },
  {
   "cell_type": "markdown",
   "metadata": {
    "slideshow": {
     "slide_type": "slide"
    }
   },
   "source": [
    "<center><h2>2. Understand </h2></center>\n",
    "\n",
    "Make sure you understand the goal and the constraints.\n",
    "\n",
    "Know what the correct solution looks like. \n",
    "\n",
    "Physically write out several inputs and outputs pairs:\n",
    "\n",
    "- (1, 2, 3) = 2\n",
    "- (-3, 3, 1) = 1/3"
   ]
  },
  {
   "cell_type": "markdown",
   "metadata": {
    "slideshow": {
     "slide_type": "slide"
    }
   },
   "source": [
    "<center><h2>3. Plan</h2></center>\n",
    "    \n",
    "Outline what you plan to do. \n",
    "\n",
    "Look for a pattern.\n",
    "\n",
    "Find similar problems you have already solved.\n",
    "\n",
    "Identify a sub-goals.\n",
    "\n",
    "Work backwards.\n",
    "\n",
    "Make an outline.\n",
    "\n",
    "Create placeholder variables and functions then fill them in.  "
   ]
  },
  {
   "cell_type": "code",
   "execution_count": 18,
   "metadata": {
    "slideshow": {
     "slide_type": "skip"
    }
   },
   "outputs": [],
   "source": [
    "# What parts of Python will help us?\n",
    "\n",
    "# sum()\n",
    "# len\n",
    "# for\n",
    "# /"
   ]
  },
  {
   "cell_type": "markdown",
   "metadata": {
    "slideshow": {
     "slide_type": "slide"
    }
   },
   "source": [
    "<center><h2>4. Solve</h2></center>\n",
    "    \n",
    "Write the Code - Note this is step #4. \n",
    "\n",
    "You need to this, but do not jump right to it.\n",
    "    \n"
   ]
  },
  {
   "cell_type": "markdown",
   "metadata": {
    "slideshow": {
     "slide_type": "fragment"
    }
   },
   "source": [
    "\"The sooner you start to code, the longer the program will take.\"   \n",
    "– Roy Carlson"
   ]
  },
  {
   "cell_type": "code",
   "execution_count": 19,
   "metadata": {
    "slideshow": {
     "slide_type": "slide"
    }
   },
   "outputs": [],
   "source": [
    "# How would we code the mean?\n"
   ]
  },
  {
   "cell_type": "code",
   "execution_count": 6,
   "metadata": {
    "slideshow": {
     "slide_type": "skip"
    }
   },
   "outputs": [],
   "source": [
    "from typing import Sequence\n",
    "\n",
    "def my_mean(nums: Sequence[float]) -> float:\n",
    "    \"Calculate the arithmetic mean\"\n",
    "    sum = 0\n",
    "    count = 0 \n",
    "    \n",
    "    for n in nums:\n",
    "        sum = sum + n\n",
    "        count = count + 1\n",
    "    \n",
    "    return sum / count"
   ]
  },
  {
   "cell_type": "markdown",
   "metadata": {
    "slideshow": {
     "slide_type": "slide"
    }
   },
   "source": [
    "<center><h2>5. Confirm</h2></center>\n",
    "    \n",
    "Does the program do what you want it to do.\n",
    "\n",
    "Double check your code with common examples and edge cases, aka testing.\n",
    "\n",
    "First, print.   \n",
    "Second, assert.  "
   ]
  },
  {
   "cell_type": "code",
   "execution_count": 9,
   "metadata": {
    "slideshow": {
     "slide_type": "fragment"
    }
   },
   "outputs": [
    {
     "name": "stdout",
     "output_type": "stream",
     "text": [
      "2.0\n",
      "0.3333333333333333\n"
     ]
    }
   ],
   "source": [
    "# How would we confirm the my_mean is correct?\n",
    "\n",
    "nums_1 = (1, 2, 3)\n",
    "print(my_mean(nums_1))\n",
    "\n",
    "nums_2 = (-3, 3, 1)\n",
    "print(my_mean(nums_2))"
   ]
  },
  {
   "cell_type": "code",
   "execution_count": 10,
   "metadata": {
    "slideshow": {
     "slide_type": "skip"
    }
   },
   "outputs": [],
   "source": [
    "# Now test\n",
    "from statistics import mean\n",
    "\n",
    "assert my_mean(nums_1) == mean(nums_1) == 2.0\n",
    "assert my_mean(nums_2) == mean(nums_2) == 0.3333333333333333"
   ]
  },
  {
   "cell_type": "markdown",
   "metadata": {
    "slideshow": {
     "slide_type": "slide"
    }
   },
   "source": [
    "<center><h2>6. Improve</h2></center>\n",
    "\n",
    "Once it is correct, then make better:\n",
    "\n",
    "- Erase unnecessary parts\n",
    "\n",
    "- Rename variables\n",
    "\n",
    "- Improve performance\n",
    "\n",
    "- Generalize"
   ]
  },
  {
   "cell_type": "code",
   "execution_count": 11,
   "metadata": {},
   "outputs": [],
   "source": [
    "from typing import Sequence\n",
    "\n",
    "def my_mean(nums: Sequence[float]) -> float:\n",
    "    \"Calculate the arithmetic mean\"\n",
    "    total = 0 # rename so it not the same as a built-in\n",
    "    count = 0 \n",
    "    \n",
    "    for n in nums:\n",
    "        total = total + n\n",
    "        count = count + 1 \n",
    "    return total / count"
   ]
  },
  {
   "cell_type": "code",
   "execution_count": null,
   "metadata": {},
   "outputs": [],
   "source": [
    "from typing import Sequence\n",
    "\n",
    "def my_mean(nums: Sequence[float]) -> float:\n",
    "    \"Calculate the arithmetic mean\"\n",
    "    total = 0\n",
    "    count = 0 \n",
    "    \n",
    "    for n in nums:\n",
    "        total += n  # Accumulator pattern\n",
    "        count += 1 \n",
    "    \n",
    "    return total / count\n",
    "\n",
    "assert my_mean(nums_1) == mean(nums_1) == 2.0\n",
    "assert my_mean(nums_2) == mean(nums_2) == 0.3333333333333333"
   ]
  },
  {
   "cell_type": "markdown",
   "metadata": {},
   "source": [
    "The above is procedural style - specific what happens step-by-step."
   ]
  },
  {
   "cell_type": "code",
   "execution_count": 12,
   "metadata": {},
   "outputs": [],
   "source": [
    "def my_mean(nums: Sequence[float]) -> float:\n",
    "    \"Calculate the arithmetic mean\"\n",
    "    return sum(nums) / len(nums) # Switch to functional style\n",
    "\n",
    "assert my_mean(nums_1) == mean(nums_1) == 2.0\n",
    "assert my_mean(nums_2) == mean(nums_2) == 0.3333333333333333"
   ]
  },
  {
   "cell_type": "markdown",
   "metadata": {
    "slideshow": {
     "slide_type": "skip"
    }
   },
   "source": [
    "- Find what work and what didn't work\n",
    "- Did you have mistaken model of the world or your program\n",
    "- List tactics and strategies for future work.\n"
   ]
  },
  {
   "cell_type": "markdown",
   "metadata": {},
   "source": [
    "Bonus Material\n",
    "-----"
   ]
  },
  {
   "cell_type": "markdown",
   "metadata": {
    "slideshow": {
     "slide_type": "slide"
    }
   },
   "source": [
    "\"Make it work, make it right, make it fast\"\n",
    "-------"
   ]
  },
  {
   "cell_type": "markdown",
   "metadata": {
    "slideshow": {
     "slide_type": "slide"
    }
   },
   "source": [
    "<center><img src=\"../images/beck.jpg\" width=\"100%\"/></center>"
   ]
  },
  {
   "cell_type": "markdown",
   "metadata": {
    "slideshow": {
     "slide_type": "skip"
    }
   },
   "source": [
    "Another interpretation:\n",
    "\n",
    "\"Make it work\" is the part about getting the code to operate correctly.\n",
    "\n",
    "\"Make it right\" means make the code more clear, i.e., refactor.  \n",
    "\n",
    "A rephrase might be, \"Make it work correctly, make the source code clear, make it run quickly.\"\n"
   ]
  },
  {
   "cell_type": "markdown",
   "metadata": {
    "slideshow": {
     "slide_type": "skip"
    }
   },
   "source": [
    "<center><img src=\"../images/talking-about-craftsmanship-with-ensaimadas-and-katas-may-2018-53-638.jpg\" width=\"75%\"/></center>"
   ]
  },
  {
   "cell_type": "markdown",
   "metadata": {},
   "source": [
    "Different techniques for understanding a problem\n",
    "--------\n",
    "\n",
    "1. State the problem in your own words.\n",
    "2. Pinpoint exactly what is being asked.\n",
    "3. Identify the unknowns.\n",
    "4. Figure out what the problem tells you is important.\n",
    "5. Remove any information that is irrelevant to the problem.\n"
   ]
  },
  {
   "cell_type": "markdown",
   "metadata": {
    "slideshow": {
     "slide_type": "slide"
    }
   },
   "source": [
    " "
   ]
  }
 ],
 "metadata": {
  "celltoolbar": "Raw Cell Format",
  "kernelspec": {
   "display_name": "Python 3",
   "language": "python",
   "name": "python3"
  },
  "language_info": {
   "codemirror_mode": {
    "name": "ipython",
    "version": 3
   },
   "file_extension": ".py",
   "mimetype": "text/x-python",
   "name": "python",
   "nbconvert_exporter": "python",
   "pygments_lexer": "ipython3",
   "version": "3.8.3"
  },
  "toc": {
   "base_numbering": 1,
   "nav_menu": {},
   "number_sections": false,
   "sideBar": false,
   "skip_h1_title": false,
   "title_cell": "Table of Contents",
   "title_sidebar": "Contents",
   "toc_cell": true,
   "toc_position": {},
   "toc_section_display": true,
   "toc_window_display": false
  }
 },
 "nbformat": 4,
 "nbformat_minor": 2
}
