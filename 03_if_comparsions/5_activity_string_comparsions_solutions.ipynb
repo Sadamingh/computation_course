{
 "cells": [
  {
   "cell_type": "markdown",
   "metadata": {
    "toc": true
   },
   "source": [
    "<h1>Table of Contents<span class=\"tocSkip\"></span></h1>\n",
    "<div class=\"toc\"><ul class=\"toc-item\"><li><span><a href=\"#Instructions\" data-toc-modified-id=\"Instructions-1\">Instructions</a></span></li><li><span><a href=\"#Boolean-Comparisons-Problems\" data-toc-modified-id=\"Boolean-Comparisons-Problems-2\">Boolean Comparisons Problems</a></span></li><li><span><a href=\"#If-Else-from-Hacker-Rank\" data-toc-modified-id=\"If-Else-from-Hacker-Rank-3\">If-Else from Hacker Rank</a></span></li><li><span><a href=\"#Bernoulli-Trial-Function\" data-toc-modified-id=\"Bernoulli-Trial-Function-4\">Bernoulli Trial Function</a></span></li><li><span><a href=\"#Conditional-Concatenation\" data-toc-modified-id=\"Conditional-Concatenation-5\">Conditional Concatenation</a></span></li><li><span><a href=\"#Find-The-Smallest-of-3-Numbers-Using-Conditional-Statements\" data-toc-modified-id=\"Find-The-Smallest-of-3-Numbers-Using-Conditional-Statements-6\">Find The Smallest of 3 Numbers Using Conditional Statements</a></span></li><li><span><a href=\"#Fizz-Buzz\" data-toc-modified-id=\"Fizz-Buzz-7\">Fizz Buzz</a></span></li></ul></div>"
   ]
  },
  {
   "cell_type": "markdown",
   "metadata": {},
   "source": [
    "Instructions\n",
    "--------\n",
    "\n",
    "- __First thing__ - Change the name of this file to avoid a [merge conflict](https://docs.github.com/en/github/getting-started-with-github/github-glossary#merge-conflict) with GitHub.\n",
    "- You should type every character for the following activities. \n",
    "- Work together with your peers in the same shared code environment. The following environments allow the importation of Jupyter Notebook from GitHub urls -\n",
    "    - [Google Colab](https://colab.research.google.com)\n",
    "    - [Deepnote](https://deepnote.com/)\n",
    "- These activities are not graded.\n",
    "- They are open resource - feel free to reference documentation, books, videos, and any other resource.\n",
    "- Attempt each problem. If stuck, move onto next one and come back to a difficult problem.\n",
    "- During class:\n",
    "    - Brian will bounce between breakout rooms. Feel free to ask questions or just ignore him.\n",
    "    - After your group has finished, leave your breakout room and return to the main room."
   ]
  },
  {
   "cell_type": "code",
   "execution_count": 3,
   "metadata": {},
   "outputs": [],
   "source": [
    "reset -fs"
   ]
  },
  {
   "cell_type": "markdown",
   "metadata": {},
   "source": [
    "Boolean Comparisons Problems\n",
    "------\n",
    "\n",
    "`True` or `False`?\n",
    "\n",
    "Write down your guesses. Then check with Python.\n",
    "\n",
    "```python\n",
    "(not True) == (1 >= 2)\n",
    "\n",
    "(42 == 42) == ('a' > 'z')\n",
    "```"
   ]
  },
  {
   "cell_type": "code",
   "execution_count": 4,
   "metadata": {},
   "outputs": [
    {
     "name": "stdout",
     "output_type": "stream",
     "text": [
      "True\n",
      "False\n"
     ]
    }
   ],
   "source": [
    "# Solutions\n",
    "\n",
    "print( (not True) == (1 >= 2) )  \n",
    "\n",
    "print( (42 == 42) == ('a' > 'z') )\n",
    "\n",
    "\"\"\"\n",
    "Takeaways\n",
    "-----\n",
    "\n",
    "- Start inside parentheses and work out\n",
    "- All letters are represented as numbers. \n",
    "- Infact everything on a computers is represented as numbers (actually binary numbers)\n",
    "- The `ord` function gives the numeric respresentation of strings with len(1)\n",
    "\"\"\""
   ]
  },
  {
   "cell_type": "markdown",
   "metadata": {},
   "source": [
    "If-Else from Hacker Rank\n",
    "-----\n",
    "\n",
    "This is problem from Hank Rank, a coding platform like Leet Code.\n",
    "\n",
    "Given an integer, perform the following conditional actions:\n",
    "\n",
    "- If integer is odd, print \"Weird\"\n",
    "- If integer is even and in the inclusive range of 2 to 5 , print \"Not Weird\"\n",
    "- If integer is even and in the inclusive range of 6 to 20, print \"Weird\"\n",
    "- If integer is even and greater than 20, print \"Not Weird\"\n",
    "\n"
   ]
  },
  {
   "cell_type": "code",
   "execution_count": 5,
   "metadata": {},
   "outputs": [
    {
     "name": "stdout",
     "output_type": "stream",
     "text": [
      "1 is 2 is 3 is 4 is 5 is 6 is 7 is 8 is 9 is 10 is 11 is 12 is 13 is 14 is 15 is 16 is 17 is 18 is 19 is 20 is 21 is 22 is 23 is 24 is "
     ]
    }
   ],
   "source": [
    "for n in range(1, 25):\n",
    "    print(n, 'is', end=\" \")\n",
    "    \n",
    "    # TODO: Write your code here.\n",
    "    # The lines are smashed together. Once you add your print function, they will look okay."
   ]
  },
  {
   "cell_type": "code",
   "execution_count": 6,
   "metadata": {},
   "outputs": [
    {
     "name": "stdout",
     "output_type": "stream",
     "text": [
      "1 is Weird\n",
      "2 is Not Weird\n",
      "3 is Weird\n",
      "4 is Not Weird\n",
      "5 is Weird\n",
      "6 is Weird\n",
      "7 is Weird\n",
      "8 is Weird\n",
      "9 is Weird\n",
      "10 is Weird\n",
      "11 is Weird\n",
      "12 is Weird\n",
      "13 is Weird\n",
      "14 is Weird\n",
      "15 is Weird\n",
      "16 is Weird\n",
      "17 is Weird\n",
      "18 is Weird\n",
      "19 is Weird\n",
      "20 is Weird\n",
      "21 is Weird\n",
      "22 is Not Weird\n",
      "23 is Weird\n",
      "24 is Not Weird\n",
      "********************\n",
      "1 is Weird\n",
      "2 is Not Weird\n",
      "3 is Weird\n",
      "4 is Not Weird\n",
      "5 is Weird\n",
      "6 is Weird\n",
      "7 is Weird\n",
      "8 is Weird\n",
      "9 is Weird\n",
      "10 is Weird\n",
      "11 is Weird\n",
      "12 is Weird\n",
      "13 is Weird\n",
      "14 is Weird\n",
      "15 is Weird\n",
      "16 is Weird\n",
      "17 is Weird\n",
      "18 is Weird\n",
      "19 is Weird\n",
      "20 is Weird\n",
      "21 is Weird\n",
      "22 is Not Weird\n",
      "23 is Weird\n",
      "24 is Not Weird\n"
     ]
    }
   ],
   "source": [
    "# Solutions\n",
    "\n",
    "# Standard\n",
    "for n in range(1, 25):\n",
    "    print(n, 'is', end=\" \")\n",
    "    \n",
    "    if n % 2 == 0:\n",
    "        if n in range(2,6):\n",
    "            print(\"Not Weird\")\n",
    "\n",
    "        elif n in range(6,21):\n",
    "            print(\"Weird\")\n",
    "\n",
    "        elif n > 20:\n",
    "            print(\"Not Weird\")\n",
    "    else:\n",
    "        print(\"Weird\")\n",
    "\n",
    "print(\"*\"*20)\n",
    "\n",
    "# Improved\n",
    "for n in range(1, 25):\n",
    "    print(n, 'is', end=\" \")\n",
    "    \n",
    "    if n%2==0 and (n in range(2, 6) or n > 20):\n",
    "        print(\"Not \", end=\"\")\n",
    "    print(\"Weird\")\n",
    "\"\"\"\n",
    "Takeaways\n",
    "-----\n",
    "\n",
    "- Reduce nested if / elif by using and / or.\n",
    "- There are often many conditionals that have the same computer-level functionality.\n",
    "- Choose the one that is easier for humans to parse.\n",
    "\n",
    "\"\"\";\n",
    "# [Source](https://www.hackerrank.com/challenges/py-if-else/problem)"
   ]
  },
  {
   "cell_type": "markdown",
   "metadata": {},
   "source": [
    "Bernoulli Trial Function\n",
    "----\n",
    "\n",
    "Write a [Bernoulli trial function](https://en.wikipedia.org/wiki/Bernoulli_trial) for a coin flip that randomly returns \"heads\" or \"tails\".\n",
    "\n",
    "The function has a single argument `probability_heads` (threshold for returning heads):\n",
    "\n",
    "`probability_heads = .5 ` is fair coin, equal chance of returning head or tails.  \n",
    "`probability_heads = 0  ` will never return heads.   \n",
    "`probability_heads = 1  ` will always return heads.   \n",
    "`probability_heads = .75` will return heads most of the time.   \n",
    "\n",
    "Use `random.random()`. The docs for random module are [here](https://docs.python.org/3/library/random.html).\n",
    "\n",
    "<br>\n",
    "<details><summary>\n",
    "Click here for a hint…\n",
    "</summary>\n",
    "`random() < prob_success` <br>\n",
    "<br>\n",
    "There only needs to be a single condition block\n",
    "</details>"
   ]
  },
  {
   "cell_type": "code",
   "execution_count": 7,
   "metadata": {},
   "outputs": [],
   "source": [
    "from random import random\n",
    "\n",
    "def coin_flip(probability_heads: float) -> str:\n",
    "\n",
    "    pass # TODO: Delete pass and write your code.\n",
    "\n",
    "def test_coin_flip(coin_flip):\n",
    "\n",
    "    # Always return heads\n",
    "    assert coin_flip(probability_heads=0) == 'tails'\n",
    "    # Always return tails\n",
    "    assert coin_flip(probability_heads=1) == 'heads'\n",
    "    # Will return one of two options\n",
    "    assert coin_flip(probability_heads=.5) in {'tails', 'heads'} \n",
    "    assert coin_flip(probability_heads=.33) in {'tails', 'heads'}\n",
    "    assert coin_flip(probability_heads=.75) in {'tails', 'heads'}\n",
    "    \n",
    "    return \"All tests pass 🙂\"\n",
    "\n",
    "# test_coin_flip(coin_flip)"
   ]
  },
  {
   "cell_type": "code",
   "execution_count": 8,
   "metadata": {},
   "outputs": [],
   "source": [
    "# Solutions\n",
    "\n",
    "def coin_flip(probability_heads: float) -> str:\n",
    "    if random() < probability_heads:\n",
    "        return \"heads\"\n",
    "    else: \n",
    "        return \"tails\"\n",
    "\n",
    "test_coin_flip(coin_flip)\n",
    "\n",
    "def coin_flip(probability_heads: float) -> str:\n",
    "    return \"heads\" if random() < probability_heads else \"tails\"\n",
    "\n",
    "test_coin_flip(coin_flip)\n",
    "\n",
    "\"\"\"\n",
    "Takeaways\n",
    "------\n",
    "\n",
    "- Write as straightforward comparision. - Straightfoward logic should be written in a straightfoward way\n",
    "- Use ternary operator to make more human readable \n",
    "    - result_if_true if condition else result_if_false\n",
    "    - https://stackoverflow.com/questions/394809/does-python-have-a-ternary-conditional-operator\n",
    "\"\"\";\n",
    "\n"
   ]
  },
  {
   "cell_type": "markdown",
   "metadata": {},
   "source": [
    "Conditional Concatenation\n",
    "-----\n",
    "\n",
    "Given 2 strings, return a single string with the form shorter+longer+shorter.\n",
    "\n",
    "The strings will not be the same length. They may be empty.\n",
    "\n",
    "Optional challenge - Write the logic as a simple one-liner."
   ]
  },
  {
   "cell_type": "code",
   "execution_count": 9,
   "metadata": {},
   "outputs": [],
   "source": [
    "def short_long_short(a: str, b: str) -> str:\n",
    "    \n",
    "    pass # TODO: Delete pass and write your code.\n",
    "\n",
    "\n",
    "def test_short_long_short(short_long_short):\n",
    "    \"Tests for `short_long_short` function\"\n",
    "    \n",
    "    assert short_long_short(\"9\", \"11\") == \"9119\"\n",
    "    assert short_long_short(\"11\", \"9\") == \"9119\"\n",
    "    assert short_long_short(\"\", \"9\")   == \"9\"\n",
    "    assert short_long_short(\"\", \"\")    == \"\"\n",
    "    \n",
    "    return \"All tests pass 🙂\"\n",
    "\n",
    "# test_short_long_short(short_long_short)"
   ]
  },
  {
   "cell_type": "code",
   "execution_count": 10,
   "metadata": {},
   "outputs": [
    {
     "name": "stdout",
     "output_type": "stream",
     "text": [
      "All tests pass 🙂\n",
      "All tests pass 🙂\n",
      "All tests pass 🙂\n"
     ]
    }
   ],
   "source": [
    "# Solutions\n",
    "\n",
    "def short_long_short(a: str, b: str) -> str:\n",
    "    \n",
    "    # Procedural verbose\n",
    "    if len(a) > len(b):\n",
    "        return b+a+b\n",
    "    else:\n",
    "        return a+b+a\n",
    "    \n",
    "print(test_short_long_short(short_long_short))\n",
    "\n",
    "def short_long_short(a: str, b: str) -> str:\n",
    "    \n",
    "    # Procedural terse\n",
    "    return b+a+b if len(a) > len(b) else a+b+a    \n",
    "    \n",
    "print(test_short_long_short(short_long_short))\n",
    "\n",
    "def short_long_short(a: str, b: str) -> str:\n",
    "\n",
    "    # Functional\n",
    "    return min(a, b, key=len) + max(a, b, key=len) + min(a, b, key=len)\n",
    "\n",
    "print(test_short_long_short(short_long_short))\n",
    "\n",
    "\"\"\"\n",
    "Takeaways\n",
    "-----\n",
    "\n",
    "- The functional approach has fewer lines of code while maintaining readability.\n",
    "- Fewer lines of code means:\n",
    "    - Fewer chance for typos\n",
    "    - Less chance for bugs\n",
    "    - Easier to extend in the future\n",
    "- Let Python do the work. You can write less code and still get the job done.\n",
    "- Built-in functions often take optional arguments which very useful.\n",
    "\n",
    "\"\"\";"
   ]
  },
  {
   "cell_type": "markdown",
   "metadata": {},
   "source": [
    "Find The Smallest of 3 Numbers Using Conditional Statements\n",
    "----\n"
   ]
  },
  {
   "cell_type": "code",
   "execution_count": 11,
   "metadata": {},
   "outputs": [],
   "source": [
    "def smallest_of_three(num1: float, num2: float, num3: float) -> float:\n",
    "    \"Return the lowest numeric value of given numbers\"\n",
    "    pass # TODO: Delete pass and write your code.\n",
    "\n",
    "def test_smallest_of_three(smallest_of_three):\n",
    "    \"Tests for `smallest_of_three` function\"\n",
    "    \n",
    "    num1, num2, num3 = 4, 3, -1\n",
    "    assert smallest_of_three(num1, num2, num3) == min([num1, num2, num3]) == -1\n",
    "    \n",
    "    num1, num2, num3 = 20.5, 10.5, 30.5, \n",
    "    assert smallest_of_three(num1, num2, num3) == min([num1, num2, num3]) == 10.5\n",
    "    \n",
    "    return \"All tests pass 🙂\"\n",
    "\n",
    "# test_smallest_of_three(smallest_of_three)"
   ]
  },
  {
   "cell_type": "code",
   "execution_count": 12,
   "metadata": {},
   "outputs": [
    {
     "data": {
      "text/plain": [
       "'All tests pass 🙂'"
      ]
     },
     "execution_count": 12,
     "metadata": {},
     "output_type": "execute_result"
    }
   ],
   "source": [
    "# Solutions\n",
    "\n",
    "def smallest_of_three(num1: float, num2: float, num3: float) -> float:\n",
    "    \"Return the lowest numeric value of given numbers\"\n",
    "    smallest = num1\n",
    "    if (num2 < num1) and (num2 < num3):\n",
    "        smallest = num2\n",
    "    elif (num3 < num1):\n",
    "        smallest = num3\n",
    "    return smallest\n",
    "\n",
    "test_smallest_of_three(smallest_of_three)\n",
    "\n",
    "\"\"\"\n",
    "Takeaways\n",
    "-----\n",
    "\n",
    "- Tarentheses are not need but improve readability.\n",
    "\n",
    "\"\"\";\n",
    "# [Source](https://djangocentral.com/python-program-to-find-the-smallest-among-three-numbers/) "
   ]
  },
  {
   "cell_type": "markdown",
   "metadata": {},
   "source": [
    "Fizz Buzz\n",
    "------\n",
    "\n",
    "Write a program that prints the numbers from 1 to 100. But for multiples of three return \"fizz\" instead of the number and for the multiples of five return \"buzz\". For numbers which are multiples of both three and five return \"fizzbuzz\".\n",
    "\n",
    "I used to play it at summer camp. Now it is infamous coding interview problem. You should be aware it because there are many references to it in tech. Also you should have a high quality answer memorized in case it ever comes up in a coding interview.\n"
   ]
  },
  {
   "cell_type": "code",
   "execution_count": 13,
   "metadata": {},
   "outputs": [],
   "source": [
    "def fizz_buzz(n: int) -> str:\n",
    "    \n",
    "    pass # TODO: Delete pass and write your code.\n",
    "\n",
    "\n",
    "def test_fizz_buzz(fizz_buzz):\n",
    "    n = 100\n",
    "\n",
    "    fizz_buzz_solutions = [None, '1', '2', 'fizz', '4', 'buzz', 'fizz', '7', '8', 'fizz', 'buzz', '11', 'fizz', '13', '14', 'fizzbuzz', '16', '17', 'fizz', '19', 'buzz', 'fizz', '22', '23', 'fizz', 'buzz', '26', 'fizz', '28', '29', 'fizzbuzz', '31', '32', 'fizz', '34', 'buzz', 'fizz', '37', '38', 'fizz', 'buzz', '41', 'fizz', '43', '44', 'fizzbuzz', '46', '47', 'fizz', '49', 'buzz', 'fizz', '52', '53', 'fizz', 'buzz', '56', 'fizz', '58', '59', 'fizzbuzz', '61', '62', 'fizz', '64', 'buzz', 'fizz', '67', '68', 'fizz', 'buzz', '71', 'fizz', '73', '74', 'fizzbuzz', '76', '77', 'fizz', '79', 'buzz', 'fizz', '82', '83', 'fizz', 'buzz', '86', 'fizz', '88', '89', 'fizzbuzz', '91', '92', 'fizz', '94', 'buzz', 'fizz', '97', '98', 'fizz', 'buzz']\n",
    "\n",
    "    for i in range(1, n+1):\n",
    "        if fizz_buzz(i) == fizz_buzz_solutions[i]: # Call fizz buzz function; Compare to item in location in list.\n",
    "            continue\n",
    "        else:\n",
    "            return f\"ERROR! At ({i}), predicted: {fizz_buzz_solutions[i]}, actual: {fizz_buzz(i)}\"\n",
    "    return \"All tests pass 🙂\"\n",
    "\n",
    "# test_fizz_buzz(fizz_buzz)"
   ]
  },
  {
   "cell_type": "code",
   "execution_count": 17,
   "metadata": {
    "code_folding": []
   },
   "outputs": [
    {
     "name": "stdout",
     "output_type": "stream",
     "text": [
      "All tests pass 🙂\n",
      "All tests pass 🙂\n",
      "All tests pass 🙂\n"
     ]
    }
   ],
   "source": [
    "# Solutions\n",
    "\n",
    "\n",
    "def fizz_buzz(n: int) -> str: \n",
    "    \"Most common solution\"\n",
    "    if n % 15 == 0:\n",
    "        return 'fizzbuzz'\n",
    "    elif n % 5 == 0:\n",
    "        return 'buzz' \n",
    "    elif n % 3 == 0:\n",
    "        return 'fizz' \n",
    "    else:\n",
    "        return str(n)\n",
    "     \n",
    "\n",
    "print(test_fizz_buzz(fizz_buzz))\n",
    "\n",
    "def fizz_buzz(n: int) -> str:\n",
    "    \"Separate out logic\"\n",
    "    fizzy = not (n % 3) # The parentheses are not needed but help with readability.\n",
    "    buzzy = not (n % 5) \n",
    "\n",
    "    if fizzy and buzzy:\n",
    "        return 'fizzbuzz'\n",
    "    elif fizzy:\n",
    "        return 'fizz'\n",
    "    elif buzzy:\n",
    "        return 'buzz'\n",
    "    else:\n",
    "        return str(n)\n",
    "\n",
    "    \n",
    "print(test_fizz_buzz(fizz_buzz))\n",
    "\n",
    "def fizz_buzz(n: int) -> str:\n",
    "    \"Message passing style\"\n",
    "    \n",
    "    message = ''\n",
    "\n",
    "    if n % 3 == 0:  \n",
    "        message += 'fizz'\n",
    "    if n % 5 == 0:  \n",
    "        message += 'buzz'\n",
    "    if not message: \n",
    "        message = str(n)\n",
    "\n",
    "    return message\n",
    "\n",
    "print(test_fizz_buzz(fizz_buzz))\n",
    "\n",
    "\"\"\"\n",
    "Takeaways\n",
    "-----\n",
    "\n",
    "- There are many ways to write Fizz Buzz.\n",
    "- In fact there is a is highly recommendedbook on it - \"Ten Essays on Fizz Buzz\" by Joel Grus https://leanpub.com/fizzbuzz\n",
    "\"\"\";\n",
    "# "
   ]
  },
  {
   "cell_type": "markdown",
   "metadata": {},
   "source": [
    "<br>\n",
    "<br> \n",
    "<br>\n",
    "\n",
    "----"
   ]
  }
 ],
 "metadata": {
  "kernelspec": {
   "display_name": "Python 3",
   "language": "python",
   "name": "python3"
  },
  "language_info": {
   "codemirror_mode": {
    "name": "ipython",
    "version": 3
   },
   "file_extension": ".py",
   "mimetype": "text/x-python",
   "name": "python",
   "nbconvert_exporter": "python",
   "pygments_lexer": "ipython3",
   "version": "3.8.3"
  },
  "toc": {
   "base_numbering": 1,
   "nav_menu": {},
   "number_sections": false,
   "sideBar": false,
   "skip_h1_title": false,
   "title_cell": "Table of Contents",
   "title_sidebar": "Contents",
   "toc_cell": true,
   "toc_position": {},
   "toc_section_display": true,
   "toc_window_display": false
  }
 },
 "nbformat": 4,
 "nbformat_minor": 4
}
