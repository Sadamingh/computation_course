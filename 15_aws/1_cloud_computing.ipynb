{
 "cells": [
  {
   "cell_type": "markdown",
   "metadata": {
    "slideshow": {
     "slide_type": "skip"
    },
    "toc": true
   },
   "source": [
    "<h1>Table of Contents<span class=\"tocSkip\"></span></h1>\n",
    "<div class=\"toc\"><ul class=\"toc-item\"><li><span><a href=\"#Cloud-Computing\" data-toc-modified-id=\"Cloud-Computing-1\">Cloud Computing</a></span></li><li><span><a href=\"#What-is-The-Cloud?\" data-toc-modified-id=\"What-is-The-Cloud?-2\">What is The Cloud?</a></span></li><li><span><a href=\"#Why-The-Cloud?\" data-toc-modified-id=\"Why-The-Cloud?-3\">Why The Cloud?</a></span></li><li><span><a href=\"#Types-of-Computer-Management\" data-toc-modified-id=\"Types-of-Computer-Management-4\">Types of Computer Management</a></span></li><li><span><a href=\"#The-Cloud-==-Infrastructure-as-a-Service\" data-toc-modified-id=\"The-Cloud-==-Infrastructure-as-a-Service-5\">The Cloud == Infrastructure as a Service</a></span></li><li><span><a href=\"#Popular-Public-Clouds\" data-toc-modified-id=\"Popular-Public-Clouds-6\">Popular Public Clouds</a></span></li><li><span><a href=\"#Cloud-Computing-is-a-different-computing-paradigm\" data-toc-modified-id=\"Cloud-Computing-is-a-different-computing-paradigm-7\">Cloud Computing is a different computing paradigm</a></span></li><li><span><a href=\"#Cattle,-not-pets\" data-toc-modified-id=\"Cattle,-not-pets-8\">Cattle, not pets</a></span></li><li><span><a href=\"#Computing-Laws\" data-toc-modified-id=\"Computing-Laws-9\">Computing Laws</a></span></li><li><span><a href=\"#Mobility-Gap\" data-toc-modified-id=\"Mobility-Gap-10\">Mobility Gap</a></span></li><li><span><a href=\"#“east-west-traffic”-vs-“north-south-traffic”\" data-toc-modified-id=\"“east-west-traffic”-vs-“north-south-traffic”-11\">“east-west traffic” vs “north-south traffic”</a></span></li><li><span><a href=\"#Brian's-Suggestion---Either-All-On-Prem(ise)-or-All-Cloud\" data-toc-modified-id=\"Brian's-Suggestion---Either-All-On-Prem(ise)-or-All-Cloud-12\">Brian's Suggestion - Either All On-Prem(ise) or All Cloud</a></span></li><li><span><a href=\"#AWS---Simple-Storage-Service-(S3)\" data-toc-modified-id=\"AWS---Simple-Storage-Service-(S3)-13\">AWS - Simple Storage Service (S3)</a></span></li><li><span><a href=\"#AWS---Elastic-Cloud-Compute-(EC2)\" data-toc-modified-id=\"AWS---Elastic-Cloud-Compute-(EC2)-14\">AWS - Elastic Cloud Compute (EC2)</a></span></li><li><span><a href=\"#Brian's-Suggestion---Distributed-computing-is-mostly-over-rated,-use-a-bigger-box\" data-toc-modified-id=\"Brian's-Suggestion---Distributed-computing-is-mostly-over-rated,-use-a-bigger-box-15\">Brian's Suggestion - Distributed computing is mostly over-rated, use a bigger box</a></span></li><li><span><a href=\"#Takeaways\" data-toc-modified-id=\"Takeaways-16\">Takeaways</a></span></li><li><span><a href=\"#Bonus-Material\" data-toc-modified-id=\"Bonus-Material-17\">Bonus Material</a></span></li><li><span><a href=\"#Further-Study\" data-toc-modified-id=\"Further-Study-18\">Further Study</a></span></li></ul></div>"
   ]
  },
  {
   "cell_type": "markdown",
   "metadata": {
    "slideshow": {
     "slide_type": "slide"
    }
   },
   "source": [
    "<center><h2>Cloud Computing</h2></center>\n",
    "<br>\n",
    "<center><img src=\"../images/cloud.jpg\" width=\"85%\"/></center>"
   ]
  },
  {
   "cell_type": "markdown",
   "metadata": {
    "slideshow": {
     "slide_type": "slide"
    }
   },
   "source": [
    "> “I think there is a world market for about five computers.”  <br><br>\n",
    "> — Thomas J. Watson Jr. of I.B.M. "
   ]
  },
  {
   "cell_type": "markdown",
   "metadata": {
    "slideshow": {
     "slide_type": "skip"
    }
   },
   "source": [
    "[Source](http://freakonomics.com/2008/04/17/our-daily-bleg-did-ibm-really-see-a-world-market-for-about-five-computers/)"
   ]
  },
  {
   "cell_type": "markdown",
   "metadata": {
    "slideshow": {
     "slide_type": "skip"
    }
   },
   "source": [
    "IBM completely missed the personal computer revolution (then missed the mobile computer) revolution.\n",
    "\n",
    "However, in the long run he was right.\n",
    "\n",
    "There will be only five \"computers\":\n",
    "\n",
    "1. Amazon\n",
    "1. Google\n",
    "1. Microsoft\n",
    "1. Facebook\n",
    "1. Baidu\n",
    "\n",
    "A bunch of the world's computation is done by those cloud \"computers\"."
   ]
  },
  {
   "cell_type": "markdown",
   "metadata": {
    "slideshow": {
     "slide_type": "slide"
    }
   },
   "source": [
    "<center><h2>What is The Cloud?</h2></center>\n",
    "\n",
    "<center><img src=\"../images/clouds.jpg\" width=\"50%\"/></center>\n",
    "\n",
    "<center>People running computers on your behalf that you can reach over the Internet.</center>"
   ]
  },
  {
   "cell_type": "markdown",
   "metadata": {
    "slideshow": {
     "slide_type": "slide"
    }
   },
   "source": [
    "<center><h2>Why The Cloud?</h2></center>\n",
    "\n"
   ]
  },
  {
   "cell_type": "markdown",
   "metadata": {
    "slideshow": {
     "slide_type": "slide"
    }
   },
   "source": [
    "| Item | Pro (compared to on-prem) | Con  \n",
    "|:-------:|:------|:---|\n",
    "| Reliable | Better than people's individual computers | Might go 100% down |\n",
    "| Flexible | Once you pick an individual computer, you are stuck with the specs | Have to support many heterogeneous systems |\n",
    "| Scalable | Easy to get a cluster of computers | Increased complexity, encourage premature distributed computing |\n",
    "| Easy of use | Everything is software defined | Learn a new computing paradigm |\n",
    "| Cost | Small upfront cost   | Reoccuring cost that builds up over time |\n",
    "\n",
    "Thus Cloud Computing is a in-demand job skill. Most companies except some cloud computing ability. More is always better. Learning cloud computing is one the best things you do for your career."
   ]
  },
  {
   "cell_type": "markdown",
   "metadata": {
    "slideshow": {
     "slide_type": "slide"
    }
   },
   "source": [
    "<center><h2>Types of Computer Management</h2></center>\n",
    "\n",
    "<center><img src=\"../images/levels.png\" width=\"90%\"/></center>"
   ]
  },
  {
   "cell_type": "markdown",
   "metadata": {
    "slideshow": {
     "slide_type": "skip"
    }
   },
   "source": [
    "On premise - Your laptop, phone, the USF printer\n",
    "\n",
    "IaaS - Amazon Web Services (AWS), Google Cloud\n",
    "\n",
    "Platform - Heroku, Windows Azure \n",
    "\n",
    "SaaS - Email, Slack, MS Office"
   ]
  },
  {
   "cell_type": "markdown",
   "metadata": {
    "slideshow": {
     "slide_type": "slide"
    }
   },
   "source": [
    "<center><h2>The Cloud == Infrastructure as a Service</h2></center>\n",
    "\n",
    "<center><img src=\"../images/iaas.png\" width=\"75%\"/></center>\n",
    "You manage all the software but none of the hardware.\n",
    "\n",
    "Everything from Operation System (OS) and up. Generally on the cloud, you run Linux OS."
   ]
  },
  {
   "cell_type": "markdown",
   "metadata": {
    "slideshow": {
     "slide_type": "slide"
    }
   },
   "source": [
    "<center><h2>Popular Public Clouds</h2></center>\n",
    "\n",
    "1. Amazon Web Services (AWS)\n",
    "1. Google Cloud\n",
    "1. Microsoft Azure\n"
   ]
  },
  {
   "cell_type": "markdown",
   "metadata": {
    "slideshow": {
     "slide_type": "slide"
    }
   },
   "source": [
    "<center><h2>Cloud Computing is a different computing paradigm</h2></center>\n",
    "\n",
    "- All your nouns are now verbs.\n",
    "    \n",
    "    I do not own ~~vinyl~~ ~~cds~~ mp3s (noun). I have access to music (verb). \n",
    "\n",
    "    I do not own a computer (noun). I have access to compute (verb).\n",
    "\n",
    "    I do not own a hard drive (noun). I have access to storage (verb).\n",
    "- Cattle, not kittens.\n",
    "    <center><h2>Cattle, not pets</h2></center>\n",
    "\n",
    "    <center><img src=\"../images/servers_pets_or_cattle.jpg\" width=\"85%\"/></center>\n",
    "    \n",
    "    [Image Source](https://regmedia.co.uk/2013/03/18/servers_pets_or_cattle.jpg)\n",
    "- Mind the Mobility Gap."
   ]
  },
  {
   "cell_type": "markdown",
   "metadata": {
    "slideshow": {
     "slide_type": "slide"
    }
   },
   "source": [
    "<center><h2>Computing Laws</h2></center>\n",
    " \n"
   ]
  },
  {
   "cell_type": "markdown",
   "metadata": {
    "slideshow": {
     "slide_type": "skip"
    }
   },
   "source": [
    "Computing laws are not like laws of physics or math. Computing laws are just repeated patterns.\n",
    "\n",
    "Computer Science is not much of science. (The rule of thumb if you add science to name it is not a science. Chemistry Science vs Data Science)."
   ]
  },
  {
   "cell_type": "markdown",
   "metadata": {
    "slideshow": {
     "slide_type": "fragment"
    }
   },
   "source": [
    "\n",
    "- [Moore's law](https://en.wikipedia.org/wiki/Moore%27s_law)"
   ]
  },
  {
   "cell_type": "markdown",
   "metadata": {
    "slideshow": {
     "slide_type": "fragment"
    }
   },
   "source": [
    "- [Kryder's law](https://en.wikipedia.org/wiki/Mark_Kryder#Kryder's_law_projection)\n"
   ]
  },
  {
   "cell_type": "markdown",
   "metadata": {
    "slideshow": {
     "slide_type": "fragment"
    }
   },
   "source": [
    "- [Nielsen's law](https://www.nngroup.com/articles/law-of-bandwidth/)"
   ]
  },
  {
   "cell_type": "markdown",
   "metadata": {
    "slideshow": {
     "slide_type": "slide"
    }
   },
   "source": [
    "<center><h2>Mobility Gap</h2></center>\n",
    "\n",
    "<center><img src=\"../images/gap.png\" width=\"45%\"/></center>\n",
    "\n",
    "The gap between our ability to store data (Kryder's law) and calculate (Moore's law) will grow much faster than our ability to move it around (Neilson's law).\n",
    "\n",
    "That gap will over time (for individual project and for compute in general)."
   ]
  },
  {
   "cell_type": "markdown",
   "metadata": {
    "slideshow": {
     "slide_type": "slide"
    }
   },
   "source": [
    "<center><h2>Brian's Suggestion - Either All On-Prem(ise) or All Cloud</h2></center>"
   ]
  },
  {
   "cell_type": "markdown",
   "metadata": {
    "slideshow": {
     "slide_type": "slide"
    }
   },
   "source": [
    "<center><h2>AWS - Simple Storage Service (S3)</h2></center>\n",
    "\n",
    "<center><img src=\"../images/s3.png\" width=\"75%\"/></center>\n",
    "\n",
    "- What does it do?\n",
    "    - Long-term storage\n",
    "- Features:\n",
    "    - Very cheap \n",
    "    - Very fast (within AWS)"
   ]
  },
  {
   "cell_type": "markdown",
   "metadata": {
    "slideshow": {
     "slide_type": "slide"
    }
   },
   "source": [
    "<center><h2>AWS - Elastic Cloud Compute (EC2)</h2></center>\n",
    "<br>\n",
    "<br>\n",
    "<center><img src=\"../images/types_of_ec2.png\" width=\"75%\"/></center>\n",
    "\n",
    "- What do it do?\n",
    "    - Provides compute\n",
    "\n",
    "- Features:\n",
    "    - Customizable: Size and type (GPUs!)\n",
    "    - Scale out (Spark Clusters)\n",
    "    - Secure "
   ]
  },
  {
   "cell_type": "markdown",
   "metadata": {},
   "source": [
    "<center><h2>Brian's Suggestion - Distributed computing is mostly over-rated, use a bigger box</h2></center>"
   ]
  },
  {
   "cell_type": "markdown",
   "metadata": {
    "slideshow": {
     "slide_type": "slide"
    }
   },
   "source": [
    "<center><h2>Takeaways</h2></center>\n",
    "\n",
    "- We are living through the cloud computing revolution. We need to rethink computing.\n",
    "- Cloud computing is making it easier, faster, and cheaper to try new ideas.\n",
    "- In the MSDS program, we use Amazon Web Services (AWS) as IaaS.\n",
    "- AWS manages the hardware. We manage the software. "
   ]
  },
  {
   "cell_type": "markdown",
   "metadata": {
    "slideshow": {
     "slide_type": "slide"
    }
   },
   "source": [
    " "
   ]
  },
  {
   "cell_type": "markdown",
   "metadata": {
    "slideshow": {
     "slide_type": "slide"
    }
   },
   "source": [
    "Bonus Material\n",
    "-----"
   ]
  },
  {
   "cell_type": "markdown",
   "metadata": {
    "slideshow": {
     "slide_type": "slide"
    }
   },
   "source": [
    "Further Study\n",
    "------\n",
    "\n",
    "- [Data Engineering Cookbook](https://github.com/andkret/Cookbook/)\n",
    "    - Specifically Chapter 10"
   ]
  },
  {
   "cell_type": "markdown",
   "metadata": {
    "slideshow": {
     "slide_type": "skip"
    }
   },
   "source": [
    "<center><h2>“east-west traffic” vs “north-south traffic”</h2></center>\n",
    "\n",
    "“east-west traffic” - within a datacenter \n",
    "\n",
    "“north-south traffic” - to/from a datacenter "
   ]
  },
  {
   "cell_type": "markdown",
   "metadata": {
    "slideshow": {
     "slide_type": "skip"
    }
   },
   "source": [
    "<center><img src=\"https://cdn.ttgtmedia.com/rms/onlineImages/sdn-east_west_traffic.jpg\" width=\"45%\"/></center>"
   ]
  },
  {
   "cell_type": "markdown",
   "metadata": {},
   "source": [
    "<center><img src=\"../images/the-cloud-is-a-metaphor_1.gif\" width=\"45%\"/></center>"
   ]
  },
  {
   "cell_type": "markdown",
   "metadata": {
    "slideshow": {
     "slide_type": "slide"
    }
   },
   "source": [
    " "
   ]
  }
 ],
 "metadata": {
  "kernelspec": {
   "display_name": "Python 3",
   "language": "python",
   "name": "python3"
  },
  "language_info": {
   "codemirror_mode": {
    "name": "ipython",
    "version": 3
   },
   "file_extension": ".py",
   "mimetype": "text/x-python",
   "name": "python",
   "nbconvert_exporter": "python",
   "pygments_lexer": "ipython3",
   "version": "3.8.3"
  },
  "toc": {
   "base_numbering": 1,
   "nav_menu": {},
   "number_sections": false,
   "sideBar": false,
   "skip_h1_title": false,
   "title_cell": "Table of Contents",
   "title_sidebar": "Contents",
   "toc_cell": true,
   "toc_position": {},
   "toc_section_display": true,
   "toc_window_display": false
  }
 },
 "nbformat": 4,
 "nbformat_minor": 2
}
