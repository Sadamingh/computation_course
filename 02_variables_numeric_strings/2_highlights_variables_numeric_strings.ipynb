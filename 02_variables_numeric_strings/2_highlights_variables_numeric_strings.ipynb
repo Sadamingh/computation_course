{
 "cells": [
  {
   "cell_type": "markdown",
   "metadata": {
    "toc": true
   },
   "source": [
    "<h1>Table of Contents<span class=\"tocSkip\"></span></h1>\n",
    "<div class=\"toc\"><ul class=\"toc-item\"><li><span><a href=\"#Highlights\" data-toc-modified-id=\"Highlights-1\">Highlights</a></span><ul class=\"toc-item\"><li><span><a href=\"#Numerical-values-are-immutable;-Python-variables-are-dynamic\" data-toc-modified-id=\"Numerical-values-are-immutable;-Python-variables-are-dynamic-1.1\">Numerical values are immutable; Python variables are dynamic</a></span></li><li><span><a href=\"#What-does-it-mean-that-Python-is-dynamically-typed?\" data-toc-modified-id=\"What-does-it-mean-that-Python-is-dynamically-typed?-1.2\">What does it mean that Python is dynamically typed?</a></span></li><li><span><a href=\"#Numerical-values-are-immutable\" data-toc-modified-id=\"Numerical-values-are-immutable-1.3\">Numerical values are immutable</a></span></li><li><span><a href=\"#Numeric-Order-of-Operations\" data-toc-modified-id=\"Numeric-Order-of-Operations-1.4\">Numeric Order of Operations</a></span></li><li><span><a href=\"#Single-vs-Double-Quotes\" data-toc-modified-id=\"Single-vs-Double-Quotes-1.5\">Single vs Double Quotes</a></span></li><li><span><a href=\"#Questions\" data-toc-modified-id=\"Questions-1.6\">Questions</a></span></li><li><span><a href=\"#Bonus-Material\" data-toc-modified-id=\"Bonus-Material-1.7\">Bonus Material</a></span></li><li><span><a href=\"#Bonus-Cartoon\" data-toc-modified-id=\"Bonus-Cartoon-1.8\">Bonus Cartoon</a></span></li><li><span><a href=\"#Numbers-vs-Strings\" data-toc-modified-id=\"Numbers-vs-Strings-1.9\">Numbers vs Strings</a></span></li></ul></li></ul></div>"
   ]
  },
  {
   "cell_type": "markdown",
   "metadata": {},
   "source": [
    "Highlights\n",
    "=======\n",
    "\n",
    "- Variables\n",
    "- Numeric Types\n",
    "- Strings"
   ]
  },
  {
   "cell_type": "markdown",
   "metadata": {},
   "source": [
    "Numerical values are immutable; Python variables are dynamic\n",
    "------\n",
    "\n",
    "This is relate to the Pythons' data model.\n",
    "\n",
    "Every Python variables has 3 properties:\n",
    "\n",
    "1. Name / Identifier\n",
    "1. Value\n",
    "1. Type \n"
   ]
  },
  {
   "cell_type": "markdown",
   "metadata": {},
   "source": [
    "What does it mean that Python is dynamically typed?\n",
    "-----\n",
    "\n",
    "A change types.\n",
    "\n",
    "Value doesn't change types\n",
    "\n",
    "The Name / Identifier can be associated with different values and different types. This is called dynamic. \n",
    "\n",
    "The opposite is static. Python is a dynamic language.\n",
    "\n",
    "In dynamic typing, the type is bound to the ______, not the variable.\n",
    "value"
   ]
  },
  {
   "cell_type": "code",
   "execution_count": 1,
   "metadata": {},
   "outputs": [
    {
     "data": {
      "text/plain": [
       "str"
      ]
     },
     "execution_count": 1,
     "metadata": {},
     "output_type": "execute_result"
    }
   ],
   "source": [
    "type(1)\n",
    "type('abc')\n",
    "\n",
    "x = 1\n",
    "type(x)\n",
    "x = 'abc'\n",
    "type(x)"
   ]
  },
  {
   "cell_type": "markdown",
   "metadata": {},
   "source": [
    "Numerical values are immutable\n",
    "-----\n",
    "\n",
    "Certain types are are immutable, aka can not mutate or change.\n",
    "\n",
    "int & float types are immutable. 42 is 42."
   ]
  },
  {
   "cell_type": "code",
   "execution_count": 2,
   "metadata": {},
   "outputs": [
    {
     "name": "stdout",
     "output_type": "stream",
     "text": [
      "4391104128\n",
      "4391104128\n",
      "4391104160\n"
     ]
    }
   ],
   "source": [
    "# In Python Tutor\n",
    "x = 42\n",
    "y = 42\n",
    "z = 42 +1 \n",
    "\n",
    "print(id(x)) \n",
    "print(id(y))\n",
    "print(id(z))"
   ]
  },
  {
   "cell_type": "code",
   "execution_count": 3,
   "metadata": {},
   "outputs": [
    {
     "name": "stdout",
     "output_type": "stream",
     "text": [
      "Help on built-in function id in module builtins:\n",
      "\n",
      "id(obj, /)\n",
      "    Return the identity of an object.\n",
      "    \n",
      "    This is guaranteed to be unique among simultaneously existing objects.\n",
      "    (CPython uses the object's memory address.)\n",
      "\n"
     ]
    }
   ],
   "source": [
    "help(id)"
   ]
  },
  {
   "cell_type": "markdown",
   "metadata": {},
   "source": [
    "Numeric Order of Operations\n",
    "-------\n",
    "\n",
    "PEMDAS:\n",
    "\n",
    "P   Parentheses, then   \n",
    "E   Exponents, then  \n",
    "MD  Multiplication and division, left to right, then  \n",
    "AS  Addition and subtraction, left to right  \n",
    "\n",
    "[Source](https://stackoverflow.com/questions/48937457/how-do-order-of-operations-go-on-python)"
   ]
  },
  {
   "cell_type": "code",
   "execution_count": 2,
   "metadata": {},
   "outputs": [
    {
     "data": {
      "text/plain": [
       "2"
      ]
     },
     "execution_count": 2,
     "metadata": {},
     "output_type": "execute_result"
    }
   ],
   "source": [
    "10 - 7 // 2 * 3 + 1"
   ]
  },
  {
   "cell_type": "code",
   "execution_count": 3,
   "metadata": {},
   "outputs": [
    {
     "data": {
      "text/plain": [
       "2"
      ]
     },
     "execution_count": 3,
     "metadata": {},
     "output_type": "execute_result"
    }
   ],
   "source": [
    "# With redundant parentheses\n",
    "\n",
    "(10 - ((7 // 2) * 3) + 1)"
   ]
  },
  {
   "cell_type": "markdown",
   "metadata": {},
   "source": [
    "Single vs Double Quotes\n",
    "-----\n",
    "\n",
    "Most of the time it doesn't matter.\n",
    "\n",
    "However, it is best to default to double quotes so you encode natural language more easily.\n",
    "\n",
    "Double quotes can contain single quotes and apostrophes."
   ]
  },
  {
   "cell_type": "code",
   "execution_count": 5,
   "metadata": {
    "code_folding": []
   },
   "outputs": [
    {
     "data": {
      "text/plain": [
       "\"People were always getting ready for tomorrow. I didn't believe in that. Tomorrow wasn't getting ready for them. It didn't even know they were there.\""
      ]
     },
     "execution_count": 5,
     "metadata": {},
     "output_type": "execute_result"
    }
   ],
   "source": [
    "# Cormac McCarthy, The Road\n",
    "\"People were always getting ready for tomorrow. I didn't believe in that. Tomorrow wasn't getting ready for them. It didn't even know they were there.\"\n"
   ]
  },
  {
   "cell_type": "code",
   "execution_count": 6,
   "metadata": {},
   "outputs": [
    {
     "data": {
      "text/plain": [
       "\"I'm a mult-line comment in Python.\\n\\nI can describe complex things and be very readable.\\n\""
      ]
     },
     "execution_count": 6,
     "metadata": {},
     "output_type": "execute_result"
    }
   ],
   "source": [
    "\"\"\"I'm a mult-line comment in Python.\n",
    "\n",
    "I can describe complex things and be very readable.\n",
    "\"\"\""
   ]
  },
  {
   "cell_type": "code",
   "execution_count": 7,
   "metadata": {},
   "outputs": [],
   "source": [
    "def complex_fuction():\n",
    "    \"\"\"I'm a mult-line docstring.\n",
    "\n",
    "    I can describe complex things and be very readable.\n",
    "    \"\"\""
   ]
  },
  {
   "cell_type": "code",
   "execution_count": 8,
   "metadata": {},
   "outputs": [],
   "source": [
    "# complex_fuction?"
   ]
  },
  {
   "cell_type": "code",
   "execution_count": 10,
   "metadata": {},
   "outputs": [],
   "source": [
    "def simple_function():\n",
    "    \"Docstrings can also be a single quote.\"\n",
    "    \n",
    "simple_function?"
   ]
  },
  {
   "cell_type": "markdown",
   "metadata": {},
   "source": [
    "<center><h2>Questions</h2></center>"
   ]
  },
  {
   "cell_type": "markdown",
   "metadata": {},
   "source": [
    "Bonus Material\n",
    "-----\n",
    "\n",
    "- [Common invalid syntax examples](https://realpython.com/invalid-syntax-python/)"
   ]
  },
  {
   "cell_type": "markdown",
   "metadata": {},
   "source": [
    "Bonus Cartoon\n",
    "--------\n",
    "\n",
    "<center><img src=\"https://imgs.xkcd.com/comics/coordinate_precision.png\" width=\"75%\"/></center>"
   ]
  },
  {
   "cell_type": "markdown",
   "metadata": {},
   "source": [
    "Numbers vs Strings\n",
    "------\n",
    "\n",
    "Do (most) humans prefer numbers or words?\n",
    "\n",
    "Do computers prefer numbers or words?\n",
    "\n",
    "-----\n",
    "\n",
    "Human love words. \n",
    "\n",
    "Computers don't like them! Why?\n",
    "\n",
    "1. They take up a lot of room in memory and on disk.\n",
    "1. They don't mean anything to a computer. The computer only really represents numbers (in fact they only represent binary)."
   ]
  }
 ],
 "metadata": {
  "kernelspec": {
   "display_name": "Python 3",
   "language": "python",
   "name": "python3"
  },
  "language_info": {
   "codemirror_mode": {
    "name": "ipython",
    "version": 3
   },
   "file_extension": ".py",
   "mimetype": "text/x-python",
   "name": "python",
   "nbconvert_exporter": "python",
   "pygments_lexer": "ipython3",
   "version": "3.8.3"
  },
  "toc": {
   "base_numbering": 1,
   "nav_menu": {},
   "number_sections": false,
   "sideBar": false,
   "skip_h1_title": false,
   "title_cell": "Table of Contents",
   "title_sidebar": "Contents",
   "toc_cell": true,
   "toc_position": {},
   "toc_section_display": true,
   "toc_window_display": false
  }
 },
 "nbformat": 4,
 "nbformat_minor": 4
}
