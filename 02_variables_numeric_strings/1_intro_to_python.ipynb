{
 "cells": [
  {
   "cell_type": "markdown",
   "metadata": {
    "slideshow": {
     "slide_type": "skip"
    },
    "toc": true
   },
   "source": [
    "<h1>Table of Contents<span class=\"tocSkip\"></span></h1>\n",
    "<div class=\"toc\"><ul class=\"toc-item\"><li><span><a href=\"#Introduction-to-Python\" data-toc-modified-id=\"Introduction-to-Python-1\">Introduction to Python</a></span></li><li><span><a href=\"#Learning-Outcomes\" data-toc-modified-id=\"Learning-Outcomes-2\">Learning Outcomes</a></span></li><li><span><a href=\"#What-is-computer-programming?\" data-toc-modified-id=\"What-is-computer-programming?-3\">What is computer programming?</a></span></li><li><span><a href=\"#Notional-Machine\" data-toc-modified-id=\"Notional-Machine-4\">Notional Machine</a></span></li><li><span><a href=\"#Python's---Nouns-&amp;-Verbs\" data-toc-modified-id=\"Python's---Nouns-&amp;-Verbs-5\">Python's   Nouns &amp; Verbs</a></span></li><li><span><a href=\"#Variables---A-place-to-keep-data-for-later\" data-toc-modified-id=\"Variables---A-place-to-keep-data-for-later-6\">Variables - A place to keep data for later</a></span></li><li><span><a href=\"#A-comment-about-comments\" data-toc-modified-id=\"A-comment-about-comments-7\">A comment about comments</a></span></li><li><span><a href=\"#Python's-Data-Model\" data-toc-modified-id=\"Python's-Data-Model-8\">Python's Data Model</a></span></li><li><span><a href=\"#How-to-read-Python-assignment\" data-toc-modified-id=\"How-to-read-Python-assignment-9\">How to read Python assignment</a></span></li><li><span><a href=\"#Functions---Repeated-actions\" data-toc-modified-id=\"Functions---Repeated-actions-10\">Functions - Repeated actions</a></span></li><li><span><a href=\"#Always-Be-Running-Code\" data-toc-modified-id=\"Always-Be-Running-Code-11\">Always Be Running Code</a></span></li><li><span><a href=\"#DRY---Don't-Repeat-Yourself\" data-toc-modified-id=\"DRY---Don't-Repeat-Yourself-12\">DRY - Don't Repeat Yourself</a></span></li><li><span><a href=\"#Explore-Namespace\" data-toc-modified-id=\"Explore-Namespace-13\">Explore Namespace</a></span></li><li><span><a href=\"#How-to-get-help\" data-toc-modified-id=\"How-to-get-help-14\">How to get help</a></span></li><li><span><a href=\"#Bonus-Material\" data-toc-modified-id=\"Bonus-Material-15\">Bonus Material</a></span></li><li><span><a href=\"#Why-Python?\" data-toc-modified-id=\"Why-Python?-16\">Why Python?</a></span></li><li><span><a href=\"#Syntax-vs-Style\" data-toc-modified-id=\"Syntax-vs-Style-17\">Syntax vs Style</a></span></li><li><span><a href=\"#Lines-of-Code-(loc)\" data-toc-modified-id=\"Lines-of-Code-(loc)-18\">Lines of Code (loc)</a></span></li></ul></div>"
   ]
  },
  {
   "cell_type": "markdown",
   "metadata": {
    "slideshow": {
     "slide_type": "slide"
    }
   },
   "source": [
    "<center><h2>Introduction to Python</h2></center>\n",
    "\n",
    "<center><img src=\"../images/python.jpeg\" width=\"100%\"/></center>"
   ]
  },
  {
   "cell_type": "markdown",
   "metadata": {
    "slideshow": {
     "slide_type": "slide"
    }
   },
   "source": [
    "<center><h2>Learning Outcomes</h2></center>\n",
    "\n",
    "__By the end of this session, you should be able to__:\n",
    "\n",
    "- Explain in your own words why we are using Python for this course.\n",
    "- List the 3 components of Python's data model.\n",
    "- Explain what are the nouns and verbs of programming."
   ]
  },
  {
   "cell_type": "markdown",
   "metadata": {},
   "source": [
    "<center><h2>What is computer programming?</h2></center>\n",
    "\n",
    "Telling computers what to do.\n",
    "\n",
    "We have lots of experience telling other humans want to do.\n",
    "\n",
    "Humans have to use a special language (i.e., a computer language) to ask computers to do something. Computers will do exactly what we them to do."
   ]
  },
  {
   "cell_type": "markdown",
   "metadata": {},
   "source": [
    "<center><h2>Notional Machine</h2></center>\n",
    "\n",
    "You need to develop a mental model of how Python works.\n",
    "\n",
    "In other courses you'll develop a mental model of SQL, machine learning, and Deep Learning.\n",
    "\n",
    "You should run the code in your head before running in Python.\n",
    "\n",
    "The hard parts of this course is getting you think like Python."
   ]
  },
  {
   "cell_type": "markdown",
   "metadata": {},
   "source": [
    "Source: https://teachtogether.tech/#s:models-notional\n"
   ]
  },
  {
   "cell_type": "markdown",
   "metadata": {},
   "source": [
    "<center><h2>Python's   Nouns & Verbs</h2></center>\n",
    "\n",
    "Nouns = Variables\n",
    "\n",
    "Verbs = Functions"
   ]
  },
  {
   "cell_type": "markdown",
   "metadata": {
    "slideshow": {
     "slide_type": "slide"
    }
   },
   "source": [
    "<center><h2>Variables - A place to keep data for later</h2></center>\n",
    "\n",
    "Variable is a value with a name in the computer’s memory."
   ]
  },
  {
   "cell_type": "code",
   "execution_count": 13,
   "metadata": {
    "slideshow": {
     "slide_type": "fragment"
    }
   },
   "outputs": [],
   "source": [
    "x = 42 # The meaning of the everything"
   ]
  },
  {
   "cell_type": "markdown",
   "metadata": {},
   "source": [
    "<center><h2>A comment about comments</h2></center>\n",
    "\n",
    "__In this course, every line of code you write will have a comment.__\n",
    "\n",
    "A comment adds additional information beyond the code.   \n",
    "A comment describes the why (vs the what).   \n",
    "A comment is complete thought.   \n",
    "There will always be a space after the `#`.  \n",
    "It can be all lower case or the first capitalized.\n",
    "Period is optional.\n",
    "\n",
    "Learn more [here](https://learning.oreilly.com/library/view/97-things-every/9780596809515/ch16.html)"
   ]
  },
  {
   "cell_type": "code",
   "execution_count": 14,
   "metadata": {
    "slideshow": {
     "slide_type": "skip"
    }
   },
   "outputs": [],
   "source": [
    "today = \"Tuesday\" # The current day of the week"
   ]
  },
  {
   "cell_type": "markdown",
   "metadata": {
    "slideshow": {
     "slide_type": "slide"
    }
   },
   "source": [
    "<center><h2>Python's Data Model</h2></center>  \n",
    "\n",
    "Every Python variables has 3 properties:\n",
    "\n",
    "1. Name / Identifier\n",
    "1. Value / Data / Payload\n",
    "1. Type "
   ]
  },
  {
   "cell_type": "markdown",
   "metadata": {},
   "source": [
    "<center><h2>How to read Python assignment</h2></center>\n",
    "\n",
    "Right-to-left\n",
    "\n",
    "All the action is on the right of the `=`\n"
   ]
  },
  {
   "cell_type": "code",
   "execution_count": 15,
   "metadata": {},
   "outputs": [],
   "source": [
    "# 42 is the value (1)\n",
    "# `=` is the assignmeent symbol\n",
    "# x is the name / indentifer\n",
    "# \n",
    "x = 42 \n"
   ]
  },
  {
   "cell_type": "markdown",
   "metadata": {},
   "source": [
    "`whos` ia a IPython feature to find about about variables"
   ]
  },
  {
   "cell_type": "code",
   "execution_count": 16,
   "metadata": {},
   "outputs": [
    {
     "name": "stdout",
     "output_type": "stream",
     "text": [
      "Variable   Type    Data/Info\n",
      "----------------------------\n",
      "today      str     Tuesday\n",
      "x          int     42\n"
     ]
    }
   ],
   "source": [
    "whos"
   ]
  },
  {
   "cell_type": "markdown",
   "metadata": {},
   "source": [
    "`whos` calls it \"Variable\" it is better to call it \"Name\" or \"Identifier\"."
   ]
  },
  {
   "cell_type": "code",
   "execution_count": 17,
   "metadata": {},
   "outputs": [
    {
     "data": {
      "text/plain": [
       "str"
      ]
     },
     "execution_count": 17,
     "metadata": {},
     "output_type": "execute_result"
    }
   ],
   "source": [
    "# type is built-in function \n",
    "type(today)"
   ]
  },
  {
   "cell_type": "code",
   "execution_count": 18,
   "metadata": {},
   "outputs": [],
   "source": [
    "# Not user-defined\n",
    "from math import pi"
   ]
  },
  {
   "cell_type": "code",
   "execution_count": 19,
   "metadata": {},
   "outputs": [
    {
     "data": {
      "text/plain": [
       "3.141592653589793"
      ]
     },
     "execution_count": 19,
     "metadata": {},
     "output_type": "execute_result"
    }
   ],
   "source": [
    "pi"
   ]
  },
  {
   "cell_type": "code",
   "execution_count": 20,
   "metadata": {},
   "outputs": [
    {
     "data": {
      "text/plain": [
       "float"
      ]
     },
     "execution_count": 20,
     "metadata": {},
     "output_type": "execute_result"
    }
   ],
   "source": [
    "type(pi)"
   ]
  },
  {
   "cell_type": "markdown",
   "metadata": {},
   "source": [
    "<center><h2>Functions - Repeated actions</h2></center>\n",
    "\n",
    "When a function is called it has a location in memory called a stack frame.\n"
   ]
  },
  {
   "cell_type": "code",
   "execution_count": 21,
   "metadata": {},
   "outputs": [
    {
     "data": {
      "text/plain": [
       "42"
      ]
     },
     "execution_count": 21,
     "metadata": {},
     "output_type": "execute_result"
    }
   ],
   "source": [
    "# Always start with def\n",
    "# Always have colon at end of the firstline\n",
    "# White space sensitive in the body of the function.\n",
    "# Should be snake_case\n",
    "# return is optional\n",
    "def sum_two_numbers(a, b):\n",
    "    \"Add two numbers\"\n",
    "    return a + b\n",
    "\n",
    "sum_two_numbers(40, 2) # () means do this action"
   ]
  },
  {
   "cell_type": "markdown",
   "metadata": {},
   "source": [
    "[Let's check this out in Python Tutor](http://www.pythontutor.com/visualize.html#mode=edit)"
   ]
  },
  {
   "cell_type": "code",
   "execution_count": 22,
   "metadata": {},
   "outputs": [],
   "source": [
    "# Store the result of the function in a variable\n",
    "x = sum_two_numbers(40, 2)"
   ]
  },
  {
   "cell_type": "code",
   "execution_count": 23,
   "metadata": {},
   "outputs": [
    {
     "data": {
      "text/plain": [
       "int"
      ]
     },
     "execution_count": 23,
     "metadata": {},
     "output_type": "execute_result"
    }
   ],
   "source": [
    "type(x)"
   ]
  },
  {
   "cell_type": "code",
   "execution_count": 24,
   "metadata": {},
   "outputs": [],
   "source": [
    "# Store the function its self in a variable\n",
    "\n",
    "x = sum_two_numbers"
   ]
  },
  {
   "cell_type": "code",
   "execution_count": 25,
   "metadata": {},
   "outputs": [
    {
     "data": {
      "text/plain": [
       "function"
      ]
     },
     "execution_count": 25,
     "metadata": {},
     "output_type": "execute_result"
    }
   ],
   "source": [
    "type(x)"
   ]
  },
  {
   "cell_type": "code",
   "execution_count": 26,
   "metadata": {},
   "outputs": [
    {
     "data": {
      "text/plain": [
       "42"
      ]
     },
     "execution_count": 26,
     "metadata": {},
     "output_type": "execute_result"
    }
   ],
   "source": [
    "x(2, 40) # Call the function"
   ]
  },
  {
   "cell_type": "markdown",
   "metadata": {},
   "source": [
    "__In this course, every function you write will have a docstring__"
   ]
  },
  {
   "cell_type": "code",
   "execution_count": 1,
   "metadata": {},
   "outputs": [
    {
     "ename": "SyntaxError",
     "evalue": "invalid syntax (<ipython-input-1-c9507bb7d1e6>, line 2)",
     "output_type": "error",
     "traceback": [
      "\u001b[0;36m  File \u001b[0;32m\"<ipython-input-1-c9507bb7d1e6>\"\u001b[0;36m, line \u001b[0;32m2\u001b[0m\n\u001b[0;31m    def sum_two_numbers(a, b)\u001b[0m\n\u001b[0m                             ^\u001b[0m\n\u001b[0;31mSyntaxError\u001b[0m\u001b[0;31m:\u001b[0m invalid syntax\n"
     ]
    }
   ],
   "source": [
    "# The most common error with functions is forgetting :\n",
    "def sum_two_numbers(a, b)\n",
    "    \"Add two numbers\"\n",
    "    return a + b"
   ]
  },
  {
   "cell_type": "markdown",
   "metadata": {},
   "source": [
    "Note that it tells you where the error but not how to fix it.\n",
    "\n",
    "Your job as a programmer is to figure out how to fix the error."
   ]
  },
  {
   "cell_type": "markdown",
   "metadata": {},
   "source": [
    "\n",
    "<center><h2>Always Be Running Code</h2></center>\n",
    "\n",
    "> Complex systems are built are out of simple working elements\n",
    "\n",
    "Ideally, you would run every line of code after you type it.\n",
    "\n",
    "At the minimum, you should every 3 lines of code.\n",
    "\n",
    "> Code that is not run is not correct\n",
    "\n",
    "You'll best through rapid feedback! Python interpreter is the primary feedback channel of this course."
   ]
  },
  {
   "cell_type": "markdown",
   "metadata": {},
   "source": [
    "<center><h2>DRY - Don't Repeat Yourself</h2></center>\n",
    "\n",
    "Variables are a way of not repeating the same value manually.\n",
    "\n",
    "Functions are a way of not repeating the same action manually."
   ]
  },
  {
   "cell_type": "markdown",
   "metadata": {},
   "source": [
    "Explore Namespace\n",
    "-----\n",
    "\n",
    "`whos` is the best option to find out about namespace in IPython.\n",
    "\n",
    "Find out about namespace in IPython:\n",
    "\n",
    "- who - list of variables (less information)\n",
    "- whos - list of variables (more information)\n",
    "- dir()  - list all members of namespace (too much information)"
   ]
  },
  {
   "cell_type": "markdown",
   "metadata": {},
   "source": [
    "How to get help\n",
    "------\n",
    "\n",
    "3 kinds of help:\n",
    "\n",
    "+ help(print)\n",
    "+ print?\n",
    "+ print<shift><tab>\n"
   ]
  },
  {
   "cell_type": "code",
   "execution_count": 1,
   "metadata": {},
   "outputs": [
    {
     "name": "stdout",
     "output_type": "stream",
     "text": [
      "Help on built-in function print in module builtins:\n",
      "\n",
      "print(...)\n",
      "    print(value, ..., sep=' ', end='\\n', file=sys.stdout, flush=False)\n",
      "    \n",
      "    Prints the values to a stream, or to sys.stdout by default.\n",
      "    Optional keyword arguments:\n",
      "    file:  a file-like object (stream); defaults to the current sys.stdout.\n",
      "    sep:   string inserted between values, default a space.\n",
      "    end:   string appended after the last value, default a newline.\n",
      "    flush: whether to forcibly flush the stream.\n",
      "\n"
     ]
    }
   ],
   "source": [
    "help(print)"
   ]
  },
  {
   "cell_type": "code",
   "execution_count": 2,
   "metadata": {},
   "outputs": [],
   "source": [
    "print?"
   ]
  },
  {
   "cell_type": "code",
   "execution_count": 3,
   "metadata": {},
   "outputs": [
    {
     "data": {
      "text/plain": [
       "<function print>"
      ]
     },
     "execution_count": 3,
     "metadata": {},
     "output_type": "execute_result"
    }
   ],
   "source": [
    "print"
   ]
  },
  {
   "cell_type": "markdown",
   "metadata": {},
   "source": [
    "Bonus Material\n",
    "-------"
   ]
  },
  {
   "cell_type": "markdown",
   "metadata": {
    "slideshow": {
     "slide_type": "slide"
    }
   },
   "source": [
    "<center><h2>Why Python?</h2></center>"
   ]
  },
  {
   "cell_type": "markdown",
   "metadata": {
    "slideshow": {
     "slide_type": "fragment"
    }
   },
   "source": [
    "- Low bar, high ceiling.\n",
    "\n",
    "- Come for features; Stay for community.\n",
    "\n",
    "- Designed for readability.\n",
    "\n",
    "- One of the most common programming languages. \n",
    "\n",
    "- Minimize total project time "
   ]
  },
  {
   "cell_type": "markdown",
   "metadata": {
    "slideshow": {
     "slide_type": "skip"
    }
   },
   "source": [
    "\n",
    "[Large and vibrant Data Science ecosystem](https://community.ibm.com/community/user/datascience/blogs/paco-nathan/2019/03/12/a-landscape-diagram-for-python-data)\n",
    "\n",
    "Lots of questions answered on Stack Overflow.\n",
    "\n",
    "Most interviews will be done in Python.\n",
    "\n",
    "Generally - this class will directly help you get a job. There are a lot of jobs for programmers, especially programmers that are data savvy.\n",
    "\n",
    "Specially - many job applications require proof of coding abilities, [LeetCode](https://leetcode.com/) and technical interviewing.\n",
    "\n",
    "Mean time between ideas and making it happen:\n",
    "- Reduced end-to-end solution time\n",
    "- Pre-existing code & community\n",
    "- Fast to write code\n",
    "- Code runs reasonably fast"
   ]
  },
  {
   "cell_type": "markdown",
   "metadata": {
    "slideshow": {
     "slide_type": "slide"
    }
   },
   "source": [
    "<center><img src=\"../images/lazy.png\" width=\"60%\"/></center>"
   ]
  },
  {
   "cell_type": "markdown",
   "metadata": {
    "slideshow": {
     "slide_type": "skip"
    }
   },
   "source": [
    "Keep the goal the goal.\n",
    "\n",
    "Do the simplest thing to solve the problem.\n",
    "\n",
    "Fewer lines of code (that are correct and easy to understand)\n",
    "    \n",
    "- Easier to hold in limited human working memory\n",
    "- Less chance for typos\n",
    "- More likely to be updated\n",
    "\n",
    "Sometimes the problem is to implement from scratch, even then let Python do as much as possible."
   ]
  },
  {
   "cell_type": "markdown",
   "metadata": {
    "slideshow": {
     "slide_type": "slide"
    }
   },
   "source": [
    " "
   ]
  },
  {
   "cell_type": "markdown",
   "metadata": {},
   "source": [
    "Syntax vs Style\n",
    "-----\n",
    "\n",
    "__Syntax__ are the visible rules of a language (technically - the rules that defines the combinations of symbols that are considered to be correctly structured for a language). \n",
    "\n",
    "How you must do something.\n",
    "\n",
    "You can do this but not that.\n",
    "\n",
    "Python interpreter enforces the rules of the language.\n",
    "\n",
    "Python will raise errors when you break the rules of the language"
   ]
  },
  {
   "cell_type": "code",
   "execution_count": 1,
   "metadata": {},
   "outputs": [
    {
     "ename": "SyntaxError",
     "evalue": "invalid syntax (<ipython-input-1-34adadacbcf4>, line 3)",
     "output_type": "error",
     "traceback": [
      "\u001b[0;36m  File \u001b[0;32m\"<ipython-input-1-34adadacbcf4>\"\u001b[0;36m, line \u001b[0;32m3\u001b[0m\n\u001b[0;31m    meaning of life = 42\u001b[0m\n\u001b[0m            ^\u001b[0m\n\u001b[0;31mSyntaxError\u001b[0m\u001b[0;31m:\u001b[0m invalid syntax\n"
     ]
    }
   ],
   "source": [
    "sum(40, 2) = 42\n",
    "\n",
    "meaning of life = 42\n",
    "\n",
    "print 42\n",
    "\n",
    "pirnt(42)\n"
   ]
  },
  {
   "cell_type": "markdown",
   "metadata": {},
   "source": [
    "__Style__\n",
    "\n",
    "Design choices are how you should something\n",
    "\n",
    "We want to develop best practices habits now. \n",
    "\n",
    "Humans enforce style (there a linters which are automated but that is for later).\n",
    "\n",
    "So I'll be enforcing style. \n",
    "\n",
    "pep8 is the style guidelines for Python\n",
    "\n",
    "https://pep8.org/ is my favorite version."
   ]
  },
  {
   "cell_type": "markdown",
   "metadata": {},
   "source": [
    "Lines of Code (loc)\n",
    "------\n",
    "\n",
    "> \"Readability counts\"   \n",
    "> — Tim Peters, Zen of Python\n",
    "\n",
    "Generally, we want fewer lines of codes.\n",
    "\n",
    "Faster to read. Less information to hold in a human memory (human and computer memory are the limiting factors of programming).\n",
    "\n",
    "Even as we minimize loc, we still have to be clear."
   ]
  }
 ],
 "metadata": {
  "celltoolbar": "Raw Cell Format",
  "kernelspec": {
   "display_name": "Python 3",
   "language": "python",
   "name": "python3"
  },
  "language_info": {
   "codemirror_mode": {
    "name": "ipython",
    "version": 3
   },
   "file_extension": ".py",
   "mimetype": "text/x-python",
   "name": "python",
   "nbconvert_exporter": "python",
   "pygments_lexer": "ipython3",
   "version": "3.8.3"
  },
  "toc": {
   "base_numbering": 1,
   "nav_menu": {},
   "number_sections": false,
   "sideBar": false,
   "skip_h1_title": false,
   "title_cell": "Table of Contents",
   "title_sidebar": "Contents",
   "toc_cell": true,
   "toc_position": {},
   "toc_section_display": true,
   "toc_window_display": false
  }
 },
 "nbformat": 4,
 "nbformat_minor": 2
}
