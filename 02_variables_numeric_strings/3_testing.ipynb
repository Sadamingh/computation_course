{
 "cells": [
  {
   "cell_type": "markdown",
   "metadata": {
    "toc": true
   },
   "source": [
    "<h1>Table of Contents<span class=\"tocSkip\"></span></h1>\n",
    "<div class=\"toc\"><ul class=\"toc-item\"><li><span><a href=\"#Why-test\" data-toc-modified-id=\"Why-test-1\">Why test</a></span></li><li><span><a href=\"#Tests-are-a-safety-net-\" data-toc-modified-id=\"Tests-are-a-safety-net--2\">Tests are a safety net </a></span></li><li><span><a href=\"#How-to-test\" data-toc-modified-id=\"How-to-test-3\">How to test</a></span></li><li><span><a href=\"#Python-is-case-sensetive\" data-toc-modified-id=\"Python-is-case-sensetive-4\">Python is case sensetive</a></span></li><li><span><a href=\"#Testing-Process\" data-toc-modified-id=\"Testing-Process-5\">Testing Process</a></span></li><li><span><a href=\"#Testing-has-limitations\" data-toc-modified-id=\"Testing-has-limitations-6\">Testing has limitations</a></span></li></ul></div>"
   ]
  },
  {
   "cell_type": "markdown",
   "metadata": {},
   "source": [
    "Why test\n",
    "-----\n",
    "\n",
    "It is important that we try to make sure our code is correct. Testing is one step on the path of correctness.\n",
    "\n",
    "Testing defines examples of where the code does what we except the code to do.\n",
    "\n",
    "You can think of testing in the class as a contract. The tests outline what I except your code to do."
   ]
  },
  {
   "cell_type": "markdown",
   "metadata": {},
   "source": [
    "Tests are a safety net \n",
    "-----\n",
    "\n",
    "<center><img src=\"https://assets.atlasobscura.com/media/W1siZiIsInVwbG9hZHMvcGxhY2VfaW1hZ2VzLzM3NjAzNzAzNzVfNTk0ZjM0ZDdlYy5qcGciXSxbInAiLCJ0aHVtYiIsIngzOTA-Il0sWyJwIiwiY29udmVydCIsIi1xdWFsaXR5IDgxIC1hdXRvLW9yaWVudCJdXQ/3760370375_594f34d7ec.jpg\" width=\"75%\"/></center>\n",
    "\n",
    "<center>Circus Center in San Francisco</center>\n",
    "\n",
    "You can try different things and make sure they work."
   ]
  },
  {
   "cell_type": "markdown",
   "metadata": {},
   "source": [
    "How to test\n",
    "------"
   ]
  },
  {
   "cell_type": "code",
   "execution_count": 5,
   "metadata": {},
   "outputs": [],
   "source": [
    "# These assertions all pass\n",
    "\n",
    "assert 1 < 2 # Note - If it passes, then there is no output, aka silently successful.\n",
    "assert \"awe\" in \"awesome\"\n",
    "\n",
    "\n",
    "assert True # The value has to be True for asserts to pass"
   ]
  },
  {
   "cell_type": "code",
   "execution_count": 1,
   "metadata": {},
   "outputs": [],
   "source": [
    "# These assertions all fail\n",
    "\n",
    "# assert 1 > 2\n",
    "# assert \"I\" in \"TEAM\"\n",
    "\n",
    "\n",
    "# assert False # If the value is false the assert will fail / raise an Exception"
   ]
  },
  {
   "cell_type": "markdown",
   "metadata": {},
   "source": [
    "Remember not to change the assert / test.\n",
    "\n",
    "Change the value."
   ]
  },
  {
   "cell_type": "markdown",
   "metadata": {},
   "source": [
    "Python is case sensetive\n",
    "-------"
   ]
  },
  {
   "cell_type": "code",
   "execution_count": null,
   "metadata": {},
   "outputs": [],
   "source": [
    "# assert \"I\" in \"i love my team\"  # Fails"
   ]
  },
  {
   "cell_type": "code",
   "execution_count": null,
   "metadata": {},
   "outputs": [],
   "source": [
    "assert \"I\" in \"I love my team\"    # Passes"
   ]
  },
  {
   "cell_type": "code",
   "execution_count": null,
   "metadata": {},
   "outputs": [],
   "source": [
    "id(I)"
   ]
  },
  {
   "cell_type": "code",
   "execution_count": null,
   "metadata": {},
   "outputs": [],
   "source": [
    "id(i)"
   ]
  },
  {
   "cell_type": "code",
   "execution_count": null,
   "metadata": {},
   "outputs": [],
   "source": [
    "Testing functions works the same way\n",
    "------"
   ]
  },
  {
   "cell_type": "code",
   "execution_count": 1,
   "metadata": {},
   "outputs": [],
   "source": [
    "def sum_2_numbers(a, b):\n",
    "    return a * b\n",
    "\n",
    "# assert sum_2_numbers(1, 2) == sum((1, 2)) == 3"
   ]
  },
  {
   "cell_type": "code",
   "execution_count": 8,
   "metadata": {},
   "outputs": [],
   "source": [
    "def sum_2_numbers(a, b):\n",
    "    return a + b\n",
    "\n",
    "assert sum_2_numbers(1, 2) == sum((1, 2)) == 3"
   ]
  },
  {
   "cell_type": "code",
   "execution_count": 9,
   "metadata": {},
   "outputs": [],
   "source": [
    "# Add display message\n",
    "\n",
    "# assert False, \"This is excepted to be True\""
   ]
  },
  {
   "cell_type": "markdown",
   "metadata": {},
   "source": [
    "Testing Process\n",
    "-------\n",
    "\n",
    "<center><img src=\"../images/red_green.png\" width=\"75%\"/></center>"
   ]
  },
  {
   "cell_type": "markdown",
   "metadata": {},
   "source": [
    "Testing has limitations\n",
    "------\n",
    "\n",
    "![](https://www.azquotes.com/picture-quotes/quote-testing-shows-the-presence-not-the-absence-of-bugs-edsger-dijkstra-84-72-89.jpg)\n",
    "\n",
    "Your code can pass all the tests but still not be entirely correct.\n",
    "\n",
    "There is a common logical fallacy with testing code: A failing test means there is guaranteed to be a problem. A passing test does not guarantee there is no problem.\n",
    "\n",
    "I do my best to create a test suite, but tests are no guarantee of complete correctness. Remember - it is impossible to fully test a program http://www.testingeducation.org/BBST/foundations/Kaner_impossibility.pdf\n",
    "\n",
    "The test are there to assist you and me, not replace thinking for you or me."
   ]
  }
 ],
 "metadata": {
  "kernelspec": {
   "display_name": "Python 3",
   "language": "python",
   "name": "python3"
  },
  "language_info": {
   "codemirror_mode": {
    "name": "ipython",
    "version": 3
   },
   "file_extension": ".py",
   "mimetype": "text/x-python",
   "name": "python",
   "nbconvert_exporter": "python",
   "pygments_lexer": "ipython3",
   "version": "3.8.3"
  },
  "toc": {
   "base_numbering": 1,
   "nav_menu": {},
   "number_sections": false,
   "sideBar": false,
   "skip_h1_title": false,
   "title_cell": "Table of Contents",
   "title_sidebar": "Contents",
   "toc_cell": true,
   "toc_position": {},
   "toc_section_display": true,
   "toc_window_display": false
  }
 },
 "nbformat": 4,
 "nbformat_minor": 4
}
