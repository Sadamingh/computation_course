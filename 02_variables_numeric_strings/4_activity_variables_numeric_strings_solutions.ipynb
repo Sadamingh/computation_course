{
 "cells": [
  {
   "cell_type": "markdown",
   "metadata": {
    "toc": true
   },
   "source": [
    "<h1>Table of Contents<span class=\"tocSkip\"></span></h1>\n",
    "<div class=\"toc\"><ul class=\"toc-item\"><li><span><a href=\"#Instructions\" data-toc-modified-id=\"Instructions-1\">Instructions</a></span></li><li><span><a href=\"#Variable-Problems\" data-toc-modified-id=\"Variable-Problems-2\">Variable Problems</a></span></li><li><span><a href=\"#Numeric-Problems\" data-toc-modified-id=\"Numeric-Problems-3\">Numeric Problems</a></span></li><li><span><a href=\"#String-Problems\" data-toc-modified-id=\"String-Problems-4\">String Problems</a></span></li><li><span><a href=\"#Testing-Problems\" data-toc-modified-id=\"Testing-Problems-5\">Testing Problems</a></span></li></ul></div>"
   ]
  },
  {
   "cell_type": "markdown",
   "metadata": {},
   "source": [
    "Instructions\n",
    "--------\n",
    "\n",
    "- __First thing__ - Change the name of this file to avoid a [merge conflict](https://docs.github.com/en/github/getting-started-with-github/github-glossary#merge-conflict) with GitHub.\n",
    "- You should type every character for the following activities. You learn almost nothing by copy n' pasting. The exceptions are specific characters that might be difficult to find on some keyboards (e.g., 안녕하세요, ☆, `( ͡° ͜ʖ ͡°)`, 🧙‍♂️ )\n",
    "- Work together with your peers in the same shared code environment. The following environments allow the importation of Jupyter Notebook from GitHub urls -\n",
    "    - [Google Colab](https://colab.research.google.com)\n",
    "    - [Deepnote](https://deepnote.com/)\n",
    "- These activities are not graded.\n",
    "- They are open resource - feel free to reference documentation, books, videos, and any other resource.\n",
    "- Attempt each problem. If stuck, move onto next one and come back to a difficult problem.\n",
    "- During class:\n",
    "    - Brian will bounce between breakout rooms. Feel free to ask questions or just ignore him.\n",
    "    - After your group has finished, leave your breakout room and return to the main room."
   ]
  },
  {
   "cell_type": "code",
   "execution_count": 83,
   "metadata": {},
   "outputs": [],
   "source": [
    "reset -fs"
   ]
  },
  {
   "cell_type": "markdown",
   "metadata": {},
   "source": [
    "What the heck is `reset -fs`?\n",
    "\n",
    "It clears the current state of a Jupyter Notebook. Jupyter Notebook can have hidden state, especially when cells are run out of order. It is best practice to frequently clear the state and run all cells from top-to-bottom."
   ]
  },
  {
   "cell_type": "markdown",
   "metadata": {},
   "source": [
    "Variable Problems\n",
    "----\n",
    "\n",
    "\n"
   ]
  },
  {
   "cell_type": "markdown",
   "metadata": {},
   "source": [
    "Find out if each of the following as either acceptable or not Python identifier. Do this by trying to assign them as an identifier for a variable. If you get a `SyntaxError: can't assign to operator`, fix the error by changing the identifier.\n",
    "\n",
    "```\n",
    "- biyu\n",
    "- sumTotal \n",
    "- sumtotal\n",
    "- sum-total \n",
    "- sum total\n",
    "- sum_total\n",
    "- sum\n",
    "- 2x\n",
    "- -4\n",
    "- $16\n",
    "- U$O\n",
    "- 10%\n",
    "- if\n",
    "- while \n",
    "- Private \n",
    "- public\n",
    "- _static \n",
    "- _4\n",
    "- _\n",
    "- ___ \n",
    "- maçã_da_beira_alta\n",
    "- ಠ_ಠ\n",
    "- λ\n",
    "- 🐶\n",
    "```"
   ]
  },
  {
   "cell_type": "code",
   "execution_count": 85,
   "metadata": {},
   "outputs": [],
   "source": [
    "# Solutions\n",
    "\n",
    "biyu = 42 # Valid\n",
    "\n",
    "sumTotal = 42 # Valid\n",
    "\n",
    "# sum-total = 42 # Invalid. Dashes are a no-no.\n",
    "sum_total = 42\n",
    "\n",
    "# sum total = 42 # Invalid. Spaces are a no-no. White space is often meaningful in Python.\n",
    "sum_total = 42\n",
    "\n",
    "sum_total = 42 # This is valid and the best example because it follows pep8 style guidelines. \n",
    "\n",
    "# sum = 42 # Valid but a terrible idea. Never name a variable or function with the same name as a built-in.\n",
    "total = 42 # Better alternative\n",
    "\n",
    "# 2x = 42 # Invalid\n",
    "x2 = 42\n",
    "\n",
    "# -4 = 42 # Invalid\n",
    "neg_4 = 42\n",
    "\n",
    "# if = 42 # Invalid. Reserved keyword.\n",
    "if_variable = 42\n",
    "\n",
    "# while = 42 # Invalid. Reserved keyword.\n",
    "while_variable = 42\n",
    "\n",
    "Private = 42 # Valid\n",
    "\n",
    "public = 42 # Valid\n",
    "\n",
    "_static = 42 # Valid. Creates a \"hidden\" variable.\n",
    "\n",
    "_4 = 42      # Valid. Creates a \"hidden\" variable.\n",
    " \n",
    "_ = 42       # Valid. Creates a \"hidden\" variable. This is common for throw-a-away variables - for i, _ in enumerate([\"one\", \"two\", \"three\"]): print(i)\n",
    "\n",
    "___ = 42     # Valid. More of the same \"hidden\" variable hack in Python.\n",
    "\n",
    "# $16 = 42 # Invalid\n",
    "dollars_16 = 42\n",
    "\n",
    "U$O = 42 # Invalid\n",
    "USO = 42\n",
    "\n",
    "# 10% = 42 # Invalid\n",
    "ten_percent = 42\n",
    "\n",
    "maçã_da_beira_alta = \"🍎\" # Valid. Python tries to be inclusive and support as many human languages as possible.\n",
    "\n",
    "ಠ_ಠ = \"hmmm…\" # Valid. Source - https://twitter.com/jakevdp/status/1239979963920445441\n",
    "\n",
    "λ = 42  # Valid. It is a letter in an alphabet. In this case, the Greek alphabet.\n",
    "\n",
    "# 🐶 = 42 # Invalid. Emojis are not letter in an alphabet.\n",
    "puppy = 42\n",
    "\n",
    "# The criterion and a complete list of valid characters to start a variable with\n",
    "# https://stackoverflow.com/questions/17043894/what-unicode-symbols-are-accepted-in-python3-variable-names\n",
    "\n",
    "##############\n",
    "\n",
    "# Let's explore the namespace\n",
    "# whos\n",
    "\n",
    "# _4 # Still available but kinda hidden\n",
    "\n",
    "# dir() # Shows everything"
   ]
  },
  {
   "cell_type": "markdown",
   "metadata": {},
   "source": [
    "What happens when you run:\n",
    "\n",
    "```python\n",
    "x = if\n",
    "```"
   ]
  },
  {
   "cell_type": "code",
   "execution_count": 5,
   "metadata": {},
   "outputs": [],
   "source": [
    "# Solutions\n",
    "\n",
    "# x = if \n",
    "\n",
    "\"\"\"\n",
    "This is the heart of Python data model.\n",
    "\n",
    "The value of a variable has to be an object.\n",
    "\n",
    "`if` is a Python keyword that is not an object, thus can be the value of a variable.\n",
    "\n",
    "(Almost) everything in Python is an object. \n",
    "\"\"\";\n",
    "\n"
   ]
  },
  {
   "cell_type": "markdown",
   "metadata": {},
   "source": [
    "Numeric Problems\n",
    "-----"
   ]
  },
  {
   "cell_type": "markdown",
   "metadata": {},
   "source": [
    "If `a = 0`, what is the type of `a`?\n",
    "\n",
    "If `b = 0.`, what is the type of `b`?"
   ]
  },
  {
   "cell_type": "code",
   "execution_count": 86,
   "metadata": {},
   "outputs": [
    {
     "name": "stdout",
     "output_type": "stream",
     "text": [
      "a is a <class 'int'>\n",
      "b is a <class 'float'>\n"
     ]
    }
   ],
   "source": [
    "# Solutions\n",
    "a = 0\n",
    "print(\"a is a\", type(a))\n",
    "\n",
    "b = 0.\n",
    "print(\"b is a\", type(b))\n",
    "\n",
    "\"\"\"\n",
    "You can force / convert any integer to be as float by adding just a .\n",
    "\n",
    ". represents the decimal point.\n",
    "\n",
    "This is very useful in numpy and pandas.\n",
    "\"\"\";"
   ]
  },
  {
   "cell_type": "markdown",
   "metadata": {},
   "source": [
    "Add parentheses to make the following expression equal the value in the comments\n",
    "\n",
    "`28 - 7 * 2 #=> 42`\n",
    "\n",
    "`2 ** 3 ** 2 #=> 64`\n",
    "\n",
    "`5 * 2 // 3 #=> 0`\n"
   ]
  },
  {
   "cell_type": "code",
   "execution_count": 12,
   "metadata": {},
   "outputs": [
    {
     "data": {
      "text/plain": [
       "2"
      ]
     },
     "execution_count": 12,
     "metadata": {},
     "output_type": "execute_result"
    }
   ],
   "source": [
    "# Solutions\n",
    "\n",
    "# (28 - 7) * 2\n",
    "\n",
    "# (2 ** 3) ** 2\n",
    "\n",
    "# 5 * (2 // 3) #=> 0"
   ]
  },
  {
   "cell_type": "markdown",
   "metadata": {},
   "source": [
    "String Problems\n",
    "------"
   ]
  },
  {
   "cell_type": "markdown",
   "metadata": {},
   "source": [
    "Fix the following:\n",
    "\n",
    "`print('O'Reilly's Online Learning Platform is awesome')`\n",
    "\n"
   ]
  },
  {
   "cell_type": "code",
   "execution_count": 89,
   "metadata": {},
   "outputs": [
    {
     "name": "stdout",
     "output_type": "stream",
     "text": [
      "O'Reilly's Online Learning Platform is awesome\n"
     ]
    }
   ],
   "source": [
    "# Solutions\n",
    "\n",
    "print(\"O'Reilly's Online Learning Platform is awesome\")\n",
    "\n"
   ]
  },
  {
   "cell_type": "markdown",
   "metadata": {},
   "source": [
    "Use a triple quoted string to make this design:\n",
    "\n",
    "```\n",
    "  *\n",
    " *** \n",
    "*****  \n",
    " ***  \n",
    "  *\n",
    "  *\n",
    "  *\n",
    "```\n",
    "\n",
    "For more of a challenge, try to have no extra line breaks at the beginning and at the end."
   ]
  },
  {
   "cell_type": "code",
   "execution_count": 90,
   "metadata": {},
   "outputs": [
    {
     "name": "stdout",
     "output_type": "stream",
     "text": [
      "  *\n",
      " *** \n",
      "*****  \n",
      " ***  \n",
      "  *\n",
      "  *\n",
      "  * \n"
     ]
    }
   ],
   "source": [
    "# Solutions\n",
    "\n",
    "# Escape the line break and allow for easy formatting\n",
    "print(\"\"\"\\\n",
    "  *\n",
    " *** \n",
    "*****  \n",
    " ***  \n",
    "  *\n",
    "  *\n",
    "  * \"\"\")\n",
    "\n",
    "# Source - http://wordaligned.org/articles/aligning-the-first-line-of-a-triplequoted-string-in-python"
   ]
  },
  {
   "cell_type": "markdown",
   "metadata": {},
   "source": [
    "Use a single double quoted string and escape characters to print the following with the __exactly__ same formatting (do not use a triple quoted string).\n",
    "\n",
    "```text\n",
    "But not only that:\n",
    "\n",
    "\t\tLet freedom ring from Stone Mountain of Georgia.\n",
    "\n",
    "\t\tLet freedom ring from Lookout Mountain of Tennessee.\n",
    "\n",
    "    \tLet freedom ring from every hill and molehill of Mississippi.\n",
    "\n",
    "    \tFrom every mountainside, let freedom ring.\n",
    "```\n",
    "\n",
    "from [Martin Luther King, Jr. I have a dream speech](https://www.americanrhetoric.com/speeches/mlkihaveadream.htm)"
   ]
  },
  {
   "cell_type": "code",
   "execution_count": 91,
   "metadata": {},
   "outputs": [
    {
     "name": "stdout",
     "output_type": "stream",
     "text": [
      "But not only that:\n",
      "\n",
      "\tLet freedom ring from Stone Mountain of Georgia.\n",
      "\n",
      "\tLet freedom ring from Lookout Mountain of Tennessee.\n",
      "\n",
      "\tLet freedom ring from every hill and molehill of Mississippi.\n",
      "\n",
      "\tFrom every mountainside, let freedom ring.\n"
     ]
    }
   ],
   "source": [
    "# Solutions\n",
    "\n",
    "print(\"But not only that:\\n\\n\\tLet freedom ring from Stone Mountain of Georgia.\\n\\n\\tLet freedom ring from Lookout Mountain of Tennessee.\\n\\n\\tLet freedom ring from every hill and molehill of Mississippi.\\n\\n\\tFrom every mountainside, let freedom ring.\")\n",
    "\n",
    "\"\"\"\n",
    "Sidebar:\n",
    "Python defaults tab to 8 spaces\n",
    "Check yourself:\n",
    "str.expandtabs?\n",
    "\n",
    "# Change it to 4 spaces with the following code:\n",
    "print(\"\\tindent\".expandtabs(tabsize=4))\n",
    "\"\"\"\n"
   ]
  },
  {
   "cell_type": "markdown",
   "metadata": {},
   "source": [
    "Testing Problems\n",
    "-------"
   ]
  },
  {
   "cell_type": "markdown",
   "metadata": {},
   "source": [
    "Get the following tests to pass. \n",
    "\n",
    "__DO NOT CHANGE THE TESTS! NEVER CHANGE TESTS!__\n",
    "\n",
    "\n",
    "```python\n",
    "# Test value\n",
    "meaning_of_life = None       # TODO: Change this line\n",
    "assert meaning_of_life == 42 # NEVER CHANGE A TEST CASE\n",
    "\n",
    "\n",
    "# Test type\n",
    "num = 8 # TODO: Change this line\n",
    "assert type(num) == float # NEVER CHANGE A TEST CASE\n",
    "\n",
    "\n",
    "# Test return value of function\n",
    "def return_hi():\n",
    "    return \"\" # TODO: Change this line\n",
    "\n",
    "assert return_hi() == \"hi\" # NEVER CHANGE A TEST CASE\n",
    "\n",
    "```"
   ]
  },
  {
   "cell_type": "code",
   "execution_count": 92,
   "metadata": {},
   "outputs": [],
   "source": [
    "# Solutions\n",
    "\n",
    "# meaning_of_life = None\n",
    "# meaning_of_life = 42\n",
    "\n",
    "# assert meaning_of_life == 42\n",
    "\n",
    "\n",
    "# num = 8\n",
    "# num = 8.\n",
    "# assert type(num) == float\n",
    "\n",
    "# def return_hi():\n",
    "#     return \"\"\n",
    "\n",
    "# def return_hi():\n",
    "#     return \"hi\"\n",
    "\n",
    "# assert return_hi() == \"hi\""
   ]
  },
  {
   "cell_type": "markdown",
   "metadata": {},
   "source": [
    "<br>\n",
    "<br> \n",
    "<br>\n",
    "\n",
    "----"
   ]
  }
 ],
 "metadata": {
  "kernelspec": {
   "display_name": "Python 3",
   "language": "python",
   "name": "python3"
  },
  "language_info": {
   "codemirror_mode": {
    "name": "ipython",
    "version": 3
   },
   "file_extension": ".py",
   "mimetype": "text/x-python",
   "name": "python",
   "nbconvert_exporter": "python",
   "pygments_lexer": "ipython3",
   "version": "3.8.3"
  },
  "toc": {
   "base_numbering": 1,
   "nav_menu": {},
   "number_sections": false,
   "sideBar": false,
   "skip_h1_title": false,
   "title_cell": "Table of Contents",
   "title_sidebar": "Contents",
   "toc_cell": true,
   "toc_position": {},
   "toc_section_display": true,
   "toc_window_display": false
  }
 },
 "nbformat": 4,
 "nbformat_minor": 4
}
